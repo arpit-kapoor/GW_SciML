{
 "cells": [
  {
   "cell_type": "code",
   "execution_count": 1,
   "id": "6f308128-87ee-439b-8472-67f35c1c43f9",
   "metadata": {},
   "outputs": [],
   "source": [
    "import os, sys\n",
    "import pandas as pd\n",
    "import numpy as np\n",
    "import torch\n",
    "import torch.optim as optim\n",
    "\n",
    "from torch.utils.data import DataLoader"
   ]
  },
  {
   "cell_type": "code",
   "execution_count": 2,
   "id": "8613fa92-a560-44a2-9f66-02ad64a69652",
   "metadata": {},
   "outputs": [],
   "source": [
    "sys.path.append('../src')\n",
    "from data.dataset import GWDataset, Normalize\n",
    "from model.handler import ModelHandler\n",
    "from model.mlp import MLP"
   ]
  },
  {
   "cell_type": "code",
   "execution_count": 3,
   "id": "639ad8dd-8a7b-44bb-9443-3030cbf27e4c",
   "metadata": {},
   "outputs": [],
   "source": [
    "base_data_dir = '/srv/scratch/z5370003/projects/data'\n",
    "data_dir = os.path.join(base_data_dir, \n",
    "                        'groundwater/FEFLOW/coastal/',\n",
    "                         'variable_density/')\n",
    "data_path = os.path.join(data_dir, 'all')"
   ]
  },
  {
   "cell_type": "code",
   "execution_count": 4,
   "id": "a9de9ade-4a6d-49e1-92a2-b01259220e77",
   "metadata": {},
   "outputs": [],
   "source": [
    "_mean = np.array([1523.10199582, 1729.62046887,   26.72577967,  316.5513978])\n",
    "_std = np.array([569.13566635, 566.33636362,  14.90088159, 183.2160048 ])\n",
    "input_transform = Normalize(mean=_mean, std=_std)"
   ]
  },
  {
   "cell_type": "code",
   "execution_count": 5,
   "id": "e37c74b3-e3a3-44bb-b338-0d5d96aa8d7c",
   "metadata": {},
   "outputs": [],
   "source": [
    "_mean = np.array([3.29223762e-01, 1.78798090e+04])\n",
    "_std = np.array([2.17284490e-01, 1.51990336e+04])\n",
    "output_transform = Normalize(mean=_mean, std=_std)"
   ]
  },
  {
   "cell_type": "code",
   "execution_count": 6,
   "id": "ed65b4f1-ec45-4eeb-ad7d-55ca202904c0",
   "metadata": {},
   "outputs": [
    {
     "data": {
      "text/plain": [
       "3434"
      ]
     },
     "execution_count": 6,
     "metadata": {},
     "output_type": "execute_result"
    }
   ],
   "source": [
    "test_ds = GWDataset(data_path, 'val', \n",
    "                     input_transform=input_transform, \n",
    "                     output_transform=output_transform,\n",
    "                     val_ratio=0.3)\n",
    "\n",
    "\n",
    "test_dl = DataLoader(test_ds, batch_size=10240, \n",
    "                      shuffle=False, pin_memory=True)\n",
    "len(test_dl)"
   ]
  },
  {
   "cell_type": "code",
   "execution_count": 7,
   "id": "29402c43-e020-41d4-ab90-0b24b0410f62",
   "metadata": {},
   "outputs": [],
   "source": [
    "device = torch.device(\"cuda\" if torch.cuda.is_available() else \"cpu\")"
   ]
  },
  {
   "cell_type": "code",
   "execution_count": null,
   "id": "16c634c9-5506-4715-9320-8613e7caeb6f",
   "metadata": {},
   "outputs": [],
   "source": []
  },
  {
   "cell_type": "code",
   "execution_count": null,
   "id": "9ad746d1-8858-4315-b3e1-242f0272bf54",
   "metadata": {},
   "outputs": [],
   "source": []
  },
  {
   "cell_type": "code",
   "execution_count": null,
   "id": "7621f95c-4807-4790-ae04-370a7f7ef0a5",
   "metadata": {},
   "outputs": [],
   "source": []
  },
  {
   "cell_type": "code",
   "execution_count": 10,
   "id": "2af0c792-f67d-4770-9277-8dd6d4ffbc1e",
   "metadata": {},
   "outputs": [],
   "source": [
    "input_size = 4\n",
    "hidden_sizes = [32, 64, 128, 32, 128, 32]\n",
    "output_size = 2\n",
    "\n",
    "mlp = MLP(input_size=input_size,\n",
    "          hidden_sizes=hidden_sizes,\n",
    "          output_size=output_size).double()"
   ]
  },
  {
   "cell_type": "code",
   "execution_count": 11,
   "id": "a2177b91-721f-46be-88d2-6830fd52ddbb",
   "metadata": {},
   "outputs": [
    {
     "name": "stderr",
     "output_type": "stream",
     "text": [
      "/scratch/pbs.6561716.kman.restech.unsw.edu.au/ipykernel_3925662/2428229336.py:2: FutureWarning: You are using `torch.load` with `weights_only=False` (the current default value), which uses the default pickle module implicitly. It is possible to construct malicious pickle data which will execute arbitrary code during unpickling (See https://github.com/pytorch/pytorch/blob/main/SECURITY.md#untrusted-models for more details). In a future release, the default value for `weights_only` will be flipped to `True`. This limits the functions that could be executed during unpickling. Arbitrary objects will no longer be allowed to be loaded via this mode unless they are explicitly allowlisted by the user via `torch.serialization.add_safe_globals`. We recommend you start setting `weights_only=True` for any use case where you don't have full control of the loaded file. Please open an issue on GitHub for any issues related to this experimental feature.\n",
      "  mlp.load_state_dict(torch.load(model_file))\n"
     ]
    },
    {
     "data": {
      "text/plain": [
       "MLP(\n",
       "  (model): Sequential(\n",
       "    (0): Linear(in_features=4, out_features=32, bias=True)\n",
       "    (1): ReLU()\n",
       "    (2): Linear(in_features=32, out_features=64, bias=True)\n",
       "    (3): ReLU()\n",
       "    (4): Linear(in_features=64, out_features=128, bias=True)\n",
       "    (5): ReLU()\n",
       "    (6): Linear(in_features=128, out_features=32, bias=True)\n",
       "    (7): ReLU()\n",
       "    (8): Linear(in_features=32, out_features=128, bias=True)\n",
       "    (9): ReLU()\n",
       "    (10): Linear(in_features=128, out_features=32, bias=True)\n",
       "    (11): ReLU()\n",
       "    (12): Linear(in_features=32, out_features=2, bias=True)\n",
       "  )\n",
       ")"
      ]
     },
     "execution_count": 11,
     "metadata": {},
     "output_type": "execute_result"
    }
   ],
   "source": [
    "model_file = '../logs/saves/mlp_model'\n",
    "mlp.load_state_dict(torch.load(model_file))\n",
    "mlp.eval()"
   ]
  },
  {
   "cell_type": "code",
   "execution_count": null,
   "id": "f31f0c1b-a4fa-43b2-8afd-f1afcde4c384",
   "metadata": {},
   "outputs": [],
   "source": []
  },
  {
   "cell_type": "code",
   "execution_count": null,
   "id": "09e632f7-0d9e-4d6a-82d4-188ec49814ca",
   "metadata": {},
   "outputs": [],
   "source": []
  },
  {
   "cell_type": "code",
   "execution_count": null,
   "id": "a00a3ff2-39b9-4f2e-bffb-6f04831c7274",
   "metadata": {},
   "outputs": [],
   "source": []
  },
  {
   "cell_type": "code",
   "execution_count": 12,
   "id": "a9d39ee9-42b6-4b1a-9a31-b29de7646aff",
   "metadata": {},
   "outputs": [],
   "source": [
    "model_handler = ModelHandler(model=mlp, device=device)"
   ]
  },
  {
   "cell_type": "code",
   "execution_count": null,
   "id": "992f1559-f641-40bc-bf94-277a2a94f11f",
   "metadata": {},
   "outputs": [
    {
     "name": "stderr",
     "output_type": "stream",
     "text": [
      "  0%|          | 7/3434 [00:18<2:31:27,  2.65s/it]"
     ]
    }
   ],
   "source": [
    "preds = model_handler.predict(test_dl)"
   ]
  },
  {
   "cell_type": "code",
   "execution_count": null,
   "id": "45bff6e6-0d6f-4afd-9e28-ec7886b4af89",
   "metadata": {},
   "outputs": [],
   "source": [
    "# print(f\"Train loss: {model_handler.evaluate(train_dl)}\")\n",
    "# print(f\"Test loss: {model_handler.evaluate(test_dl)}\")"
   ]
  },
  {
   "cell_type": "code",
   "execution_count": null,
   "id": "789dac40-29b8-4c21-9bb7-a716122ab1fd",
   "metadata": {},
   "outputs": [],
   "source": [
    "from tqdm import tqdm\n",
    "\n",
    "inputs = []\n",
    "targets = []\n",
    "\n",
    "for X, y in tqdm(test_dl):\n",
    "    inputs.append(X.detach().numpy())\n",
    "    targets.append(y.detach().numpy())"
   ]
  },
  {
   "cell_type": "code",
   "execution_count": null,
   "id": "efc2b0b4-269e-4cfa-89aa-b352591c38ce",
   "metadata": {},
   "outputs": [],
   "source": [
    "write_dir = '/srv/scratch/z5370003/projects/04_groundwater/variable_density/results/MLP/'\n",
    "np.save(os.path.join(write_dir, 'preds.npy'), preds)\n",
    "np.save(os.path.join(write_dir, 'inputs.npy'), np.concat(inputs))\n",
    "np.save(os.path.join(write_dir, 'targets.npy'), np.concat(targets))"
   ]
  },
  {
   "cell_type": "code",
   "execution_count": null,
   "id": "b8c70c1a-c968-448c-81e8-cbab4cc7dae2",
   "metadata": {},
   "outputs": [],
   "source": []
  }
 ],
 "metadata": {
  "kernelspec": {
   "display_name": "Python 3 (ipykernel) (torch-env)",
   "language": "python",
   "name": "conda_torch-env_python3"
  },
  "language_info": {
   "codemirror_mode": {
    "name": "ipython",
    "version": 3
   },
   "file_extension": ".py",
   "mimetype": "text/x-python",
   "name": "python",
   "nbconvert_exporter": "python",
   "pygments_lexer": "ipython3",
   "version": "3.11.10"
  }
 },
 "nbformat": 4,
 "nbformat_minor": 5
}
