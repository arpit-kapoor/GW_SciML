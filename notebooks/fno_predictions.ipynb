{
 "cells": [
  {
   "cell_type": "code",
   "execution_count": 1,
   "id": "8030b85d-5bac-473a-b92d-adebaff59b61",
   "metadata": {},
   "outputs": [],
   "source": [
    "import os, sys\n",
    "import pandas as pd\n",
    "import numpy as np\n",
    "import matplotlib.pyplot as plt\n",
    "import torch\n",
    "\n",
    "from torch.utils.data import DataLoader"
   ]
  },
  {
   "cell_type": "code",
   "execution_count": 2,
   "id": "559976f5-9134-4459-97c7-d997b6d0d66b",
   "metadata": {},
   "outputs": [],
   "source": [
    "sys.path.append('..')\n",
    "from src.data.dataset import GWDataset, GWGridDataset, Normalize\n",
    "from src.model.handler import ModelHandler\n",
    "from src.model.neuralop.fno import FNO\n",
    "from src.model.neuralop.losses import LpLoss, H1Loss"
   ]
  },
  {
   "cell_type": "code",
   "execution_count": 3,
   "id": "cf31ff43-50ac-4939-88a4-d1a2cdc9bc1f",
   "metadata": {},
   "outputs": [],
   "source": [
    "base_data_dir = '/srv/scratch/z5370003/projects/data/groundwater/FEFLOW/coastal/variable_density/'\n",
    "interpolated_data_dir = os.path.join(base_data_dir, 'interpolated')"
   ]
  },
  {
   "cell_type": "code",
   "execution_count": 4,
   "id": "a56e031d-b1f3-4015-962a-c21c9ec0fc1f",
   "metadata": {},
   "outputs": [],
   "source": [
    "_mean = np.array([-0.5474])\n",
    "_std = np.array([0.6562])\n",
    "input_transform = Normalize(mean=_mean, std=_std)\n",
    "output_transform = Normalize(mean=_mean, std=_std)\n",
    "\n",
    "in_window_size = 5\n",
    "out_window_size = 5\n",
    "val_ratio = 0.3\n",
    "batch_size = 32\n",
    "\n",
    "fill_value = -1"
   ]
  },
  {
   "cell_type": "code",
   "execution_count": 5,
   "id": "1e3e8832-85a9-477b-bd6b-5a59c8126ba4",
   "metadata": {},
   "outputs": [],
   "source": [
    "train_ds = GWGridDataset(data_path=interpolated_data_dir,\n",
    "                         dataset='train', val_ratio=val_ratio,\n",
    "                         in_window_size=in_window_size,\n",
    "                         out_window_size=out_window_size,\n",
    "                         input_transform=input_transform,\n",
    "                         output_transform=output_transform,\n",
    "                         fillval=fill_value)\n",
    "\n",
    "train_dl = DataLoader(train_ds, batch_size=batch_size, \n",
    "                      shuffle=False, pin_memory=True)"
   ]
  },
  {
   "cell_type": "code",
   "execution_count": 6,
   "id": "324ff733-98ca-49da-9cfd-896660bdad03",
   "metadata": {},
   "outputs": [
    {
     "data": {
      "text/plain": [
       "(-0.5474661404044114, 0.6561926480601327)"
      ]
     },
     "execution_count": 6,
     "metadata": {},
     "output_type": "execute_result"
    }
   ],
   "source": [
    "train_ds._data.mean(), train_ds._data.std()"
   ]
  },
  {
   "cell_type": "code",
   "execution_count": 8,
   "id": "442ce60b-1ee4-43b6-a7d8-bfaf98b41083",
   "metadata": {},
   "outputs": [
    {
     "data": {
      "text/plain": [
       "(1336, 40, 40, 40)"
      ]
     },
     "execution_count": 8,
     "metadata": {},
     "output_type": "execute_result"
    }
   ],
   "source": [
    "train_ds._data.shape"
   ]
  },
  {
   "cell_type": "code",
   "execution_count": null,
   "id": "69acc24a-89a4-4b41-bccf-dfa41e11b13b",
   "metadata": {},
   "outputs": [],
   "source": []
  },
  {
   "cell_type": "code",
   "execution_count": null,
   "id": "73325cef-f56a-4996-bcf9-36ef4714ce70",
   "metadata": {},
   "outputs": [],
   "source": []
  },
  {
   "cell_type": "code",
   "execution_count": null,
   "id": "3bb368b6-171f-41f4-a0c9-4b2589abc315",
   "metadata": {},
   "outputs": [],
   "source": []
  },
  {
   "cell_type": "code",
   "execution_count": 9,
   "id": "a174c165-2881-46b9-bbe5-01fc155fd504",
   "metadata": {},
   "outputs": [
    {
     "data": {
      "text/plain": [
       "18"
      ]
     },
     "execution_count": 9,
     "metadata": {},
     "output_type": "execute_result"
    }
   ],
   "source": [
    "val_ds = GWGridDataset(data_path=interpolated_data_dir,\n",
    "                         dataset='val', val_ratio=val_ratio,\n",
    "                         in_window_size=in_window_size,\n",
    "                         out_window_size=out_window_size,\n",
    "                         input_transform=input_transform,\n",
    "                         output_transform=output_transform,\n",
    "                         fillval=fill_value)\n",
    "\n",
    "val_dl = DataLoader(val_ds, batch_size=batch_size, \n",
    "                      shuffle=False, pin_memory=True)\n",
    "\n",
    "len(val_dl)"
   ]
  },
  {
   "cell_type": "code",
   "execution_count": 12,
   "id": "4bdb335c-9e3a-4a12-944d-82b76867e308",
   "metadata": {},
   "outputs": [
    {
     "data": {
      "text/plain": [
       "573"
      ]
     },
     "execution_count": 12,
     "metadata": {},
     "output_type": "execute_result"
    }
   ],
   "source": [
    "val_ds._data.shape[0]"
   ]
  },
  {
   "cell_type": "code",
   "execution_count": 13,
   "id": "428716df-ca14-4e57-9403-98458d35ac8d",
   "metadata": {},
   "outputs": [
    {
     "data": {
      "text/plain": [
       "1909"
      ]
     },
     "execution_count": 13,
     "metadata": {},
     "output_type": "execute_result"
    }
   ],
   "source": [
    "val_ds._data.shape[0] + train_ds._data.shape[0]"
   ]
  },
  {
   "cell_type": "code",
   "execution_count": null,
   "id": "ef828e60-8e2d-4c65-897e-1d6468603a67",
   "metadata": {},
   "outputs": [],
   "source": []
  },
  {
   "cell_type": "code",
   "execution_count": null,
   "id": "600affb8-f48c-4d9b-955c-ad1491f03451",
   "metadata": {},
   "outputs": [],
   "source": []
  },
  {
   "cell_type": "code",
   "execution_count": null,
   "id": "5db4d861-62a3-4f25-8473-5ab5b7aa3ad7",
   "metadata": {},
   "outputs": [],
   "source": []
  },
  {
   "cell_type": "code",
   "execution_count": null,
   "id": "84e5f724-93ab-4c7a-a4ab-7ac33b4e5990",
   "metadata": {},
   "outputs": [],
   "source": []
  },
  {
   "cell_type": "code",
   "execution_count": 8,
   "id": "a62d4a3a-187d-41ca-9b81-22636a8ed6f8",
   "metadata": {},
   "outputs": [
    {
     "name": "stdout",
     "output_type": "stream",
     "text": [
      "Found following device: cuda\n"
     ]
    }
   ],
   "source": [
    "device = torch.device(\"cuda\" if torch.cuda.is_available() else \"cpu\")\n",
    "print(f\"Found following device: {device}\")"
   ]
  },
  {
   "cell_type": "code",
   "execution_count": 9,
   "id": "bb730a6c-a2c4-49a1-b069-6df17586a9e3",
   "metadata": {},
   "outputs": [],
   "source": [
    "# l2loss = LpLoss(d=3, p=2)\n",
    "# h1loss = H1Loss(d=3)\n",
    "\n",
    "# train_loss = h1loss\n",
    "# eval_losses={'h1': h1loss, 'l2': l2loss}\n",
    "\n",
    "# Model configuration\n",
    "n_modes = (16, 16, 16)\n",
    "in_channels = in_window_size\n",
    "out_channels = out_window_size\n",
    "hidden_channels = 64\n",
    "projection_channels = 64\n",
    "# scheduler_interval = 10"
   ]
  },
  {
   "cell_type": "code",
   "execution_count": 10,
   "id": "6df3a22a-bf1d-4742-ba40-4355502117dc",
   "metadata": {},
   "outputs": [],
   "source": [
    "model = FNO(n_modes=n_modes, in_channels=in_channels, \n",
    "            out_channels=out_channels,\n",
    "            hidden_channels=hidden_channels, \n",
    "            projection_channels=projection_channels).double()"
   ]
  },
  {
   "cell_type": "code",
   "execution_count": 11,
   "id": "21f3c7d8-3a15-4a3c-99bf-4a9fa54a3d87",
   "metadata": {},
   "outputs": [
    {
     "data": {
      "text/plain": [
       "<All keys matched successfully>"
      ]
     },
     "execution_count": 11,
     "metadata": {},
     "output_type": "execute_result"
    }
   ],
   "source": [
    "results_path = '/srv/scratch/z5370003/projects/04_groundwater/variable_density/results/FNO/20250529_184905'\n",
    "model_path = os.path.join(results_path, 'savedmodel_fno')\n",
    "model.load_state_dict(torch.load(model_path, weights_only=True, map_location=device))"
   ]
  },
  {
   "cell_type": "code",
   "execution_count": 12,
   "id": "773d0c9c-393e-4be9-97de-22457133c764",
   "metadata": {},
   "outputs": [
    {
     "name": "stderr",
     "output_type": "stream",
     "text": [
      "100%|██████████| 18/18 [00:05<00:00,  3.14it/s]\n"
     ]
    }
   ],
   "source": [
    "model_handler = ModelHandler(model=model, device=device)\n",
    "\n",
    "# Generate predictions\n",
    "preds = np.array(model_handler.predict(val_dl))\n",
    "preds = output_transform.inverse_transform(preds)\n",
    "\n",
    "# Get targets\n",
    "targets = model_handler.get_targets(val_dl)\n",
    "targets = output_transform.inverse_transform(targets)"
   ]
  },
  {
   "cell_type": "code",
   "execution_count": 13,
   "id": "362e9235-7c8b-43bd-a23f-137d04d81ebc",
   "metadata": {},
   "outputs": [],
   "source": [
    "preds[targets == fill_value] = np.nan\n",
    "targets[targets == fill_value] = np.nan"
   ]
  },
  {
   "cell_type": "code",
   "execution_count": 14,
   "id": "a1baecb2-4a7d-4106-8bce-b2c1f9bb09be",
   "metadata": {},
   "outputs": [],
   "source": [
    "def plot_2d_projection(x_grid, y_grid, z_grid, values, vmin=None, vmax=None, title=None):\n",
    "\n",
    "    # Create a figure with 3 subplots for different slices\n",
    "    fig, (ax1, ax2, ax3) = plt.subplots(1, 3, figsize=(15, 5))\n",
    "\n",
    "    if title is not None:\n",
    "        fig.suptitle(title, fontsize=16)\n",
    "\n",
    "    # If vmin or vmax is not provided, use the min and max of the values\n",
    "    if vmin is None:\n",
    "        vmin = np.nanmin(values)\n",
    "    if vmax is None:\n",
    "        vmax = np.nanmax(values)\n",
    "\n",
    "    \n",
    "    # YZ plane (constant X)\n",
    "    for ix in range(values.shape[0]):\n",
    "        im1 = ax1.imshow(values[ix,:,:].T, aspect='auto', \n",
    "                        extent=[y_grid[0], y_grid[-1], z_grid[0], z_grid[-1]],\n",
    "                        origin='lower', cmap='viridis', alpha=0.1, vmin=vmin, vmax=vmax)\n",
    "    ax1.set_title('YZ plane (constant X)')\n",
    "    ax1.set_xlabel('Y')\n",
    "    ax1.set_ylabel('Z')\n",
    "    plt.colorbar(im1, ax=ax1)\n",
    "    \n",
    "    # XZ plane (constant Y)\n",
    "    for iy in range(values.shape[1]):\n",
    "        im2 = ax2.imshow(values[:,iy,:].T, aspect='auto',\n",
    "                        extent=[x_grid[0], x_grid[-1], z_grid[0], z_grid[-1]],\n",
    "                        origin='lower', cmap='viridis', alpha=0.1, vmin=vmin, vmax=vmax)\n",
    "    ax2.set_title('XZ plane (constant Y)')\n",
    "    ax2.set_xlabel('X')\n",
    "    ax2.set_ylabel('Z')\n",
    "    plt.colorbar(im2, ax=ax2)\n",
    "    \n",
    "    # XY plane (constant Z)\n",
    "    for iz in range(values.shape[2]):\n",
    "        im3 = ax3.imshow(values[:,:,iz].T, aspect='auto',\n",
    "                        extent=[x_grid[0], x_grid[-1], y_grid[0], y_grid[-1]],\n",
    "                        origin='lower', cmap='viridis', alpha=0.1, vmin=vmin, vmax=vmax)\n",
    "    ax3.set_title('XY plane (constant Z)')\n",
    "    ax3.set_xlabel('X')\n",
    "    ax3.set_ylabel('Y')\n",
    "    plt.colorbar(im3, ax=ax3)\n",
    "    \n",
    "    plt.tight_layout()\n",
    "\n",
    "    return fig"
   ]
  },
  {
   "cell_type": "code",
   "execution_count": 15,
   "id": "55e85a3f-ebd5-497b-af05-b7555f4a78b6",
   "metadata": {
    "scrolled": true
   },
   "outputs": [],
   "source": [
    "# preds[np.isclose(preds, -1, atol=5e-3)] = -1\n",
    "# preds"
   ]
  },
  {
   "cell_type": "code",
   "execution_count": 16,
   "id": "59d198de-4902-45a1-af8c-7a91f728a092",
   "metadata": {},
   "outputs": [],
   "source": [
    "targets_path = os.path.join(results_path, 'targets')\n",
    "preds_path = os.path.join(results_path, 'preds')\n",
    "\n",
    "os.makedirs(targets_path, exist_ok=True)\n",
    "os.makedirs(preds_path, exist_ok=True)"
   ]
  },
  {
   "cell_type": "code",
   "execution_count": 17,
   "id": "cec52820-38eb-4437-9968-cdd5ffaed88b",
   "metadata": {},
   "outputs": [
    {
     "name": "stderr",
     "output_type": "stream",
     "text": [
      "100%|██████████| 563/563 [24:59<00:00,  2.66s/it]\n"
     ]
    }
   ],
   "source": [
    "from tqdm import trange\n",
    "\n",
    "for t in trange(targets.shape[0]):\n",
    "\n",
    "    vmin = np.nanmin(targets[t, 0])\n",
    "    vmax = np.nanmax(targets[t, 0])\n",
    "\n",
    "    target_fig = plot_2d_projection(val_ds.x_grid, val_ds.y_grid, val_ds.z_grid, \n",
    "                    targets[t, 0], vmin=vmin, vmax=vmax, title='Targets')\n",
    "    target_fig.savefig(os.path.join(targets_path, f'{str(t).zfill(4)}.png'))\n",
    "\n",
    "\n",
    "    plt.close(target_fig)\n",
    "\n",
    "    pred_fig = plot_2d_projection(val_ds.x_grid, val_ds.y_grid, val_ds.z_grid, \n",
    "                    preds[t, 0], vmin=vmin, vmax=vmax, title='Predictions')\n",
    "    \n",
    "    pred_fig.savefig(os.path.join(preds_path, f'{str(t).zfill(4)}.png'))\n",
    "    plt.close(pred_fig)"
   ]
  },
  {
   "cell_type": "code",
   "execution_count": 18,
   "id": "bbdd1842-eda2-41c5-96b7-70555e3c66b4",
   "metadata": {},
   "outputs": [],
   "source": [
    "import cv2\n",
    "from tqdm import tqdm"
   ]
  },
  {
   "cell_type": "code",
   "execution_count": 19,
   "id": "16ce58c8-8fde-4ed7-9669-8574775f54d5",
   "metadata": {
    "scrolled": true
   },
   "outputs": [
    {
     "name": "stderr",
     "output_type": "stream",
     "text": [
      "100%|██████████| 563/563 [00:14<00:00, 39.70it/s]\n"
     ]
    }
   ],
   "source": [
    "video_name = os.path.join(results_path, 'hydraulic_head.avi')\n",
    "\n",
    "frames = sorted(os.listdir(targets_path))\n",
    "\n",
    "# Configure frame paths\n",
    "target_frame_path = os.path.join(targets_path, frames[0])\n",
    "pred_frame_path = os.path.join(preds_path, frames[0])\n",
    "\n",
    "# Read frames from file\n",
    "target_frame = cv2.imread(target_frame_path)\n",
    "pred_frame = cv2.imread(pred_frame_path)\n",
    "\n",
    "# vertically concatenate images\n",
    "combined_frame = cv2.vconcat([target_frame, pred_frame])\n",
    "\n",
    "# Configure video writer\n",
    "height, width, layers = combined_frame.shape\n",
    "video = cv2.VideoWriter(video_name, 0, 4, (width, height))\n",
    "\n",
    "\n",
    "for frame in tqdm(sorted(os.listdir(targets_path))):\n",
    "    \n",
    "    # Configure frame paths\n",
    "    target_frame_path = os.path.join(targets_path, frame)\n",
    "    pred_frame_path = os.path.join(preds_path, frame)\n",
    "    \n",
    "    # Read frames from file\n",
    "    target_frame = cv2.imread(target_frame_path)\n",
    "    pred_frame = cv2.imread(pred_frame_path)\n",
    "    \n",
    "    # vertically concatenate images\n",
    "    combined_frame = cv2.vconcat([target_frame, pred_frame])\n",
    "\n",
    "    # Write to file\n",
    "    video.write(combined_frame)\n",
    "\n",
    "# Cleanup\n",
    "cv2.destroyAllWindows()\n",
    "video.release()"
   ]
  },
  {
   "cell_type": "code",
   "execution_count": null,
   "id": "059b7555-d229-47b2-871a-5ba5c6523f04",
   "metadata": {},
   "outputs": [],
   "source": []
  },
  {
   "cell_type": "code",
   "execution_count": null,
   "id": "0d3c39bd-6155-4ded-8400-09fc3ea4496d",
   "metadata": {},
   "outputs": [],
   "source": []
  },
  {
   "cell_type": "code",
   "execution_count": null,
   "id": "9d37c6fd-e448-4b95-96ac-0e0278f8f2e4",
   "metadata": {},
   "outputs": [],
   "source": []
  }
 ],
 "metadata": {
  "kernelspec": {
   "display_name": "Python 3 (ipykernel) (torch-env)",
   "language": "python",
   "name": "conda_torch-env_python3"
  },
  "language_info": {
   "codemirror_mode": {
    "name": "ipython",
    "version": 3
   },
   "file_extension": ".py",
   "mimetype": "text/x-python",
   "name": "python",
   "nbconvert_exporter": "python",
   "pygments_lexer": "ipython3",
   "version": "3.11.10"
  }
 },
 "nbformat": 4,
 "nbformat_minor": 5
}
