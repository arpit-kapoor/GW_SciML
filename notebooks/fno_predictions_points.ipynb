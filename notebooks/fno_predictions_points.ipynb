{
 "cells": [
  {
   "cell_type": "code",
   "execution_count": 1,
   "id": "8030b85d-5bac-473a-b92d-adebaff59b61",
   "metadata": {},
   "outputs": [
    {
     "ename": "KeyboardInterrupt",
     "evalue": "",
     "output_type": "error",
     "traceback": [
      "\u001b[0;31m---------------------------------------------------------------------------\u001b[0m",
      "\u001b[0;31mKeyboardInterrupt\u001b[0m                         Traceback (most recent call last)",
      "Cell \u001b[0;32mIn[1], line 5\u001b[0m\n\u001b[1;32m      3\u001b[0m \u001b[38;5;28;01mimport\u001b[39;00m \u001b[38;5;21;01mnumpy\u001b[39;00m \u001b[38;5;28;01mas\u001b[39;00m \u001b[38;5;21;01mnp\u001b[39;00m\n\u001b[1;32m      4\u001b[0m \u001b[38;5;28;01mimport\u001b[39;00m \u001b[38;5;21;01mmatplotlib\u001b[39;00m\u001b[38;5;21;01m.\u001b[39;00m\u001b[38;5;21;01mpyplot\u001b[39;00m \u001b[38;5;28;01mas\u001b[39;00m \u001b[38;5;21;01mplt\u001b[39;00m\n\u001b[0;32m----> 5\u001b[0m \u001b[38;5;28;01mimport\u001b[39;00m \u001b[38;5;21;01mtorch\u001b[39;00m\n\u001b[1;32m      7\u001b[0m \u001b[38;5;28;01mfrom\u001b[39;00m \u001b[38;5;21;01mtorch\u001b[39;00m\u001b[38;5;21;01m.\u001b[39;00m\u001b[38;5;21;01mutils\u001b[39;00m\u001b[38;5;21;01m.\u001b[39;00m\u001b[38;5;21;01mdata\u001b[39;00m \u001b[38;5;28;01mimport\u001b[39;00m DataLoader\n",
      "File \u001b[0;32m/srv/scratch/z5370003/miniconda3/envs/torch-env/lib/python3.11/site-packages/torch/__init__.py:2059\u001b[0m\n\u001b[1;32m   2043\u001b[0m \u001b[38;5;66;03m################################################################################\u001b[39;00m\n\u001b[1;32m   2044\u001b[0m \u001b[38;5;66;03m# Import most common subpackages\u001b[39;00m\n\u001b[1;32m   2045\u001b[0m \u001b[38;5;66;03m################################################################################\u001b[39;00m\n\u001b[0;32m   (...)\u001b[0m\n\u001b[1;32m   2050\u001b[0m \n\u001b[1;32m   2051\u001b[0m \u001b[38;5;66;03m# needs to be before import torch.nn as nn to avoid circular dependencies\u001b[39;00m\n\u001b[1;32m   2052\u001b[0m \u001b[38;5;28;01mfrom\u001b[39;00m \u001b[38;5;21;01mtorch\u001b[39;00m\u001b[38;5;21;01m.\u001b[39;00m\u001b[38;5;21;01mautograd\u001b[39;00m \u001b[38;5;28;01mimport\u001b[39;00m (  \u001b[38;5;66;03m# usort: skip\u001b[39;00m\n\u001b[1;32m   2053\u001b[0m     enable_grad \u001b[38;5;28;01mas\u001b[39;00m enable_grad,\n\u001b[1;32m   2054\u001b[0m     inference_mode \u001b[38;5;28;01mas\u001b[39;00m inference_mode,\n\u001b[1;32m   2055\u001b[0m     no_grad \u001b[38;5;28;01mas\u001b[39;00m no_grad,\n\u001b[1;32m   2056\u001b[0m     set_grad_enabled \u001b[38;5;28;01mas\u001b[39;00m set_grad_enabled,\n\u001b[1;32m   2057\u001b[0m )\n\u001b[0;32m-> 2059\u001b[0m \u001b[38;5;28;01mfrom\u001b[39;00m \u001b[38;5;21;01mtorch\u001b[39;00m \u001b[38;5;28;01mimport\u001b[39;00m (\n\u001b[1;32m   2060\u001b[0m     __config__ \u001b[38;5;28;01mas\u001b[39;00m __config__,\n\u001b[1;32m   2061\u001b[0m     __future__ \u001b[38;5;28;01mas\u001b[39;00m __future__,\n\u001b[1;32m   2062\u001b[0m     _awaits \u001b[38;5;28;01mas\u001b[39;00m _awaits,\n\u001b[1;32m   2063\u001b[0m     autograd \u001b[38;5;28;01mas\u001b[39;00m autograd,\n\u001b[1;32m   2064\u001b[0m     backends \u001b[38;5;28;01mas\u001b[39;00m backends,\n\u001b[1;32m   2065\u001b[0m     cpu \u001b[38;5;28;01mas\u001b[39;00m cpu,\n\u001b[1;32m   2066\u001b[0m     cuda \u001b[38;5;28;01mas\u001b[39;00m cuda,\n\u001b[1;32m   2067\u001b[0m     distributed \u001b[38;5;28;01mas\u001b[39;00m distributed,\n\u001b[1;32m   2068\u001b[0m     distributions \u001b[38;5;28;01mas\u001b[39;00m distributions,\n\u001b[1;32m   2069\u001b[0m     fft \u001b[38;5;28;01mas\u001b[39;00m fft,\n\u001b[1;32m   2070\u001b[0m     futures \u001b[38;5;28;01mas\u001b[39;00m futures,\n\u001b[1;32m   2071\u001b[0m     hub \u001b[38;5;28;01mas\u001b[39;00m hub,\n\u001b[1;32m   2072\u001b[0m     jit \u001b[38;5;28;01mas\u001b[39;00m jit,\n\u001b[1;32m   2073\u001b[0m     linalg \u001b[38;5;28;01mas\u001b[39;00m linalg,\n\u001b[1;32m   2074\u001b[0m     mps \u001b[38;5;28;01mas\u001b[39;00m mps,\n\u001b[1;32m   2075\u001b[0m     mtia \u001b[38;5;28;01mas\u001b[39;00m mtia,\n\u001b[1;32m   2076\u001b[0m     multiprocessing \u001b[38;5;28;01mas\u001b[39;00m multiprocessing,\n\u001b[1;32m   2077\u001b[0m     nested \u001b[38;5;28;01mas\u001b[39;00m nested,\n\u001b[1;32m   2078\u001b[0m     nn \u001b[38;5;28;01mas\u001b[39;00m nn,\n\u001b[1;32m   2079\u001b[0m     optim \u001b[38;5;28;01mas\u001b[39;00m optim,\n\u001b[1;32m   2080\u001b[0m     overrides \u001b[38;5;28;01mas\u001b[39;00m overrides,\n\u001b[1;32m   2081\u001b[0m     profiler \u001b[38;5;28;01mas\u001b[39;00m profiler,\n\u001b[1;32m   2082\u001b[0m     sparse \u001b[38;5;28;01mas\u001b[39;00m sparse,\n\u001b[1;32m   2083\u001b[0m     special \u001b[38;5;28;01mas\u001b[39;00m special,\n\u001b[1;32m   2084\u001b[0m     testing \u001b[38;5;28;01mas\u001b[39;00m testing,\n\u001b[1;32m   2085\u001b[0m     types \u001b[38;5;28;01mas\u001b[39;00m types,\n\u001b[1;32m   2086\u001b[0m     utils \u001b[38;5;28;01mas\u001b[39;00m utils,\n\u001b[1;32m   2087\u001b[0m     xpu \u001b[38;5;28;01mas\u001b[39;00m xpu,\n\u001b[1;32m   2088\u001b[0m )\n\u001b[1;32m   2089\u001b[0m \u001b[38;5;28;01mfrom\u001b[39;00m \u001b[38;5;21;01mtorch\u001b[39;00m\u001b[38;5;21;01m.\u001b[39;00m\u001b[38;5;21;01msignal\u001b[39;00m \u001b[38;5;28;01mimport\u001b[39;00m windows \u001b[38;5;28;01mas\u001b[39;00m windows\n\u001b[1;32m   2092\u001b[0m \u001b[38;5;66;03m# Quantized, sparse, AO, etc. should be last to get imported, as nothing\u001b[39;00m\n\u001b[1;32m   2093\u001b[0m \u001b[38;5;66;03m# is expected to depend on them.\u001b[39;00m\n",
      "File \u001b[0;32m<frozen importlib._bootstrap>:1176\u001b[0m, in \u001b[0;36m_find_and_load\u001b[0;34m(name, import_)\u001b[0m\n",
      "File \u001b[0;32m<frozen importlib._bootstrap>:1147\u001b[0m, in \u001b[0;36m_find_and_load_unlocked\u001b[0;34m(name, import_)\u001b[0m\n",
      "File \u001b[0;32m<frozen importlib._bootstrap>:690\u001b[0m, in \u001b[0;36m_load_unlocked\u001b[0;34m(spec)\u001b[0m\n",
      "File \u001b[0;32m<frozen importlib._bootstrap_external>:936\u001b[0m, in \u001b[0;36mexec_module\u001b[0;34m(self, module)\u001b[0m\n",
      "File \u001b[0;32m<frozen importlib._bootstrap_external>:1032\u001b[0m, in \u001b[0;36mget_code\u001b[0;34m(self, fullname)\u001b[0m\n",
      "File \u001b[0;32m<frozen importlib._bootstrap_external>:1131\u001b[0m, in \u001b[0;36mget_data\u001b[0;34m(self, path)\u001b[0m\n",
      "\u001b[0;31mKeyboardInterrupt\u001b[0m: "
     ]
    }
   ],
   "source": [
    "import os, sys\n",
    "import pandas as pd\n",
    "import numpy as np\n",
    "import matplotlib.pyplot as plt\n",
    "import torch\n",
    "\n",
    "from torch.utils.data import DataLoader"
   ]
  },
  {
   "cell_type": "code",
   "execution_count": null,
   "id": "559976f5-9134-4459-97c7-d997b6d0d66b",
   "metadata": {},
   "outputs": [],
   "source": [
    "sys.path.append('..')\n",
    "from src.data.dataset import GWDataset, GWGridDataset, Normalize\n",
    "from src.model.handler import ModelHandler\n",
    "from src.model.neuralop.fno import FNO\n",
    "from src.model.neuralop.losses import LpLoss, H1Loss"
   ]
  },
  {
   "cell_type": "code",
   "execution_count": null,
   "id": "cf31ff43-50ac-4939-88a4-d1a2cdc9bc1f",
   "metadata": {},
   "outputs": [],
   "source": [
    "base_data_dir = '/srv/scratch/z5370003/projects/data/groundwater/FEFLOW/coastal/variable_density/'\n",
    "interpolated_data_dir = os.path.join(base_data_dir, 'interpolated')"
   ]
  },
  {
   "cell_type": "code",
   "execution_count": null,
   "id": "a56e031d-b1f3-4015-962a-c21c9ec0fc1f",
   "metadata": {},
   "outputs": [],
   "source": [
    "_mean = np.array([-0.5474])\n",
    "_std = np.array([0.6562])\n",
    "input_transform = Normalize(mean=_mean, std=_std)\n",
    "output_transform = Normalize(mean=_mean, std=_std)\n",
    "\n",
    "in_window_size = 5\n",
    "out_window_size = 5\n",
    "val_ratio = 0.3\n",
    "batch_size = 32\n",
    "\n",
    "fill_value = -1"
   ]
  },
  {
   "cell_type": "code",
   "execution_count": null,
   "id": "69acc24a-89a4-4b41-bccf-dfa41e11b13b",
   "metadata": {},
   "outputs": [],
   "source": []
  },
  {
   "cell_type": "code",
   "execution_count": null,
   "id": "73325cef-f56a-4996-bcf9-36ef4714ce70",
   "metadata": {},
   "outputs": [],
   "source": []
  },
  {
   "cell_type": "code",
   "execution_count": null,
   "id": "3bb368b6-171f-41f4-a0c9-4b2589abc315",
   "metadata": {},
   "outputs": [],
   "source": []
  },
  {
   "cell_type": "code",
   "execution_count": null,
   "id": "a174c165-2881-46b9-bbe5-01fc155fd504",
   "metadata": {},
   "outputs": [],
   "source": [
    "val_ds = GWGridDataset(data_path=interpolated_data_dir,\n",
    "                         dataset='val', val_ratio=val_ratio,\n",
    "                         in_window_size=in_window_size,\n",
    "                         out_window_size=out_window_size,\n",
    "                         input_transform=input_transform,\n",
    "                         output_transform=output_transform,\n",
    "                         fillval=fill_value)\n",
    "\n",
    "val_dl = DataLoader(val_ds, batch_size=batch_size, \n",
    "                      shuffle=False, pin_memory=True)\n",
    "\n",
    "len(val_dl)"
   ]
  },
  {
   "cell_type": "code",
   "execution_count": null,
   "id": "4bdb335c-9e3a-4a12-944d-82b76867e308",
   "metadata": {},
   "outputs": [],
   "source": [
    "val_ds._data.shape[0]"
   ]
  },
  {
   "cell_type": "code",
   "execution_count": null,
   "id": "ef828e60-8e2d-4c65-897e-1d6468603a67",
   "metadata": {},
   "outputs": [],
   "source": []
  },
  {
   "cell_type": "code",
   "execution_count": null,
   "id": "600affb8-f48c-4d9b-955c-ad1491f03451",
   "metadata": {},
   "outputs": [],
   "source": []
  },
  {
   "cell_type": "code",
   "execution_count": null,
   "id": "5db4d861-62a3-4f25-8473-5ab5b7aa3ad7",
   "metadata": {},
   "outputs": [],
   "source": []
  },
  {
   "cell_type": "code",
   "execution_count": null,
   "id": "84e5f724-93ab-4c7a-a4ab-7ac33b4e5990",
   "metadata": {},
   "outputs": [],
   "source": []
  },
  {
   "cell_type": "code",
   "execution_count": null,
   "id": "a62d4a3a-187d-41ca-9b81-22636a8ed6f8",
   "metadata": {},
   "outputs": [],
   "source": [
    "device = torch.device(\"cuda\" if torch.cuda.is_available() else \"cpu\")\n",
    "print(f\"Found following device: {device}\")"
   ]
  },
  {
   "cell_type": "code",
   "execution_count": null,
   "id": "bb730a6c-a2c4-49a1-b069-6df17586a9e3",
   "metadata": {},
   "outputs": [],
   "source": [
    "# l2loss = LpLoss(d=3, p=2)\n",
    "# h1loss = H1Loss(d=3)\n",
    "\n",
    "# train_loss = h1loss\n",
    "# eval_losses={'h1': h1loss, 'l2': l2loss}\n",
    "\n",
    "# Model configuration\n",
    "n_modes = (16, 16, 16)\n",
    "in_channels = in_window_size\n",
    "out_channels = out_window_size\n",
    "hidden_channels = 64\n",
    "projection_channels = 64\n",
    "# scheduler_interval = 10"
   ]
  },
  {
   "cell_type": "code",
   "execution_count": null,
   "id": "6df3a22a-bf1d-4742-ba40-4355502117dc",
   "metadata": {},
   "outputs": [],
   "source": [
    "model = FNO(n_modes=n_modes, in_channels=in_channels, \n",
    "            out_channels=out_channels,\n",
    "            hidden_channels=hidden_channels, \n",
    "            projection_channels=projection_channels).double()"
   ]
  },
  {
   "cell_type": "code",
   "execution_count": null,
   "id": "21f3c7d8-3a15-4a3c-99bf-4a9fa54a3d87",
   "metadata": {},
   "outputs": [],
   "source": [
    "results_path = '/srv/scratch/z5370003/projects/04_groundwater/variable_density/results/FNO/20250529_184905'\n",
    "model_path = os.path.join(results_path, 'savedmodel_fno')\n",
    "model.load_state_dict(torch.load(model_path, weights_only=True, map_location=device))"
   ]
  },
  {
   "cell_type": "code",
   "execution_count": null,
   "id": "773d0c9c-393e-4be9-97de-22457133c764",
   "metadata": {},
   "outputs": [],
   "source": [
    "model_handler = ModelHandler(model=model, device=device)\n",
    "\n",
    "# Generate predictions\n",
    "preds_mesh = np.array(model_handler.predict(val_dl))\n",
    "preds_mesh = output_transform.inverse_transform(preds_mesh)\n",
    "\n",
    "# Get targets\n",
    "targets = model_handler.get_targets(val_dl)\n",
    "targets = output_transform.inverse_transform(targets)\n",
    "\n",
    "mask = targets == fill_value\n",
    "preds_mesh[mask] = np.nan\n",
    "targets[mask] = np.nan"
   ]
  },
  {
   "cell_type": "code",
   "execution_count": null,
   "id": "068b6f3c-16b4-4a65-aad9-2fa120d894ac",
   "metadata": {},
   "outputs": [],
   "source": []
  },
  {
   "cell_type": "code",
   "execution_count": null,
   "id": "f5ce763d-389b-41bb-a8e2-228bfb7c11cc",
   "metadata": {},
   "outputs": [],
   "source": []
  },
  {
   "cell_type": "code",
   "execution_count": null,
   "id": "98f3f137-5296-4c27-b88e-e2099e7d0c71",
   "metadata": {},
   "outputs": [],
   "source": []
  },
  {
   "cell_type": "code",
   "execution_count": null,
   "id": "01e6fe4a-49e8-4343-b0df-368ef94ec2df",
   "metadata": {},
   "outputs": [],
   "source": []
  },
  {
   "cell_type": "code",
   "execution_count": 12,
   "id": "69bc39ad-72ae-4a8b-ba87-5ecdaaf0efee",
   "metadata": {},
   "outputs": [
    {
     "data": {
      "text/plain": [
       "3434"
      ]
     },
     "execution_count": 12,
     "metadata": {},
     "output_type": "execute_result"
    }
   ],
   "source": [
    "points_data_dir = os.path.join(base_data_dir, 'all')\n",
    "\n",
    "_mean = np.array([1523.10199582, 1729.62046887,   26.72577967,  316.5513978])\n",
    "_std = np.array([569.13566635, 566.33636362,  14.90088159, 183.2160048 ])\n",
    "input_transform = Normalize(mean=_mean, std=_std)\n",
    "\n",
    "_mean = np.array([3.29223762e-01, 1.78798090e+04])\n",
    "_std = np.array([2.17284490e-01, 1.51990336e+04])\n",
    "output_transform = Normalize(mean=_mean, std=_std)\n",
    "\n",
    "points_test_ds = GWDataset(points_data_dir, 'val', \n",
    "                     input_transform=input_transform, \n",
    "                     output_transform=output_transform,\n",
    "                     val_ratio=0.3)\n",
    "\n",
    "\n",
    "points_test_dl = DataLoader(points_test_ds, batch_size=10240, \n",
    "                      shuffle=False, pin_memory=True)\n",
    "len(points_test_dl)"
   ]
  },
  {
   "cell_type": "code",
   "execution_count": 13,
   "id": "f8a94bd0-6a84-46c3-ad31-00a192781979",
   "metadata": {},
   "outputs": [
    {
     "data": {
      "text/plain": [
       "(0.0, 2643.551370422647)"
      ]
     },
     "execution_count": 13,
     "metadata": {},
     "output_type": "execute_result"
    }
   ],
   "source": [
    "n_points = points_test_ds.data.shape[0]//len(points_test_ds.datafiles)\n",
    "points_test_ds.data.X.min(), points_test_ds.data.X.max()"
   ]
  },
  {
   "cell_type": "code",
   "execution_count": 14,
   "id": "f831a89c-4b5c-4298-a059-f64342c1970e",
   "metadata": {},
   "outputs": [
    {
     "data": {
      "text/plain": [
       "((563, 61360, 4), (563, 61360, 1))"
      ]
     },
     "execution_count": 14,
     "metadata": {},
     "output_type": "execute_result"
    }
   ],
   "source": [
    "data = points_test_ds.data[['X', 'Y', 'Z', 'time (d)', 'head']].values\n",
    "\n",
    "inputs = data[:, :4]\n",
    "inputs[:, :3] = inputs[:, :3] + points_test_ds.origin\n",
    "targets = data[:, 4:]\n",
    "\n",
    "n_steps = inputs.shape[0]/n_points\n",
    "ts = np.arange(n_steps, dtype=np.int64)\n",
    "ts = ts[in_window_size:-out_window_size]\n",
    "\n",
    "inputs = inputs.reshape((int(n_steps), -1, 4))\n",
    "targets = targets.reshape((int(n_steps), -1, 1))\n",
    "\n",
    "inputs = inputs[in_window_size:-out_window_size]\n",
    "targets = targets[in_window_size:-out_window_size]\n",
    "\n",
    "inputs.shape, targets.shape"
   ]
  },
  {
   "cell_type": "code",
   "execution_count": null,
   "id": "302afad3-63d9-461c-9da5-960126e7d217",
   "metadata": {},
   "outputs": [],
   "source": []
  },
  {
   "cell_type": "code",
   "execution_count": null,
   "id": "72f6cee7-fc43-4300-ba26-47db0f34126f",
   "metadata": {},
   "outputs": [],
   "source": []
  },
  {
   "cell_type": "code",
   "execution_count": null,
   "id": "ccf6b9df-e9bc-42a4-9825-571827847d6a",
   "metadata": {},
   "outputs": [],
   "source": []
  },
  {
   "cell_type": "code",
   "execution_count": null,
   "id": "9bc045df-5702-4045-af6a-26cd0fde8ba2",
   "metadata": {},
   "outputs": [],
   "source": []
  },
  {
   "cell_type": "code",
   "execution_count": null,
   "id": "551f7543-c9d0-4ad6-bd08-168fc61f878c",
   "metadata": {},
   "outputs": [],
   "source": []
  },
  {
   "cell_type": "code",
   "execution_count": null,
   "id": "0c81f2b6-4a51-4446-a780-dd1ecb967763",
   "metadata": {},
   "outputs": [],
   "source": []
  },
  {
   "cell_type": "code",
   "execution_count": null,
   "id": "4d0b56f9-c70f-4675-b5be-1205d0761a29",
   "metadata": {},
   "outputs": [],
   "source": []
  },
  {
   "cell_type": "code",
   "execution_count": 15,
   "id": "207d98bc-337a-407d-8ad1-5b4cc86d64b6",
   "metadata": {},
   "outputs": [
    {
     "data": {
      "text/plain": [
       "(563, 61360, 1)"
      ]
     },
     "execution_count": 15,
     "metadata": {},
     "output_type": "execute_result"
    }
   ],
   "source": [
    "mlp_res_dir = '/srv/scratch/z5370003/projects/04_groundwater/variable_density/results/MLP/'\n",
    "mlp_preds = np.load(os.path.join(mlp_res_dir, 'preds.npy'))\n",
    "\n",
    "_mean = np.array([3.29223762e-01, 1.78798090e+04])\n",
    "_std = np.array([2.17284490e-01, 1.51990336e+04])\n",
    "output_transform = Normalize(mean=_mean, std=_std)\n",
    "\n",
    "mlp_preds = output_transform.inverse_transform(mlp_preds).numpy()\n",
    "mlp_preds = mlp_preds[:, 0]\n",
    "mlp_preds = mlp_preds.reshape((int(n_steps), -1, 1))\n",
    "mlp_preds = mlp_preds[in_window_size:-out_window_size]\n",
    "\n",
    "mlp_preds.shape"
   ]
  },
  {
   "cell_type": "code",
   "execution_count": 16,
   "id": "37bc53d6-d93e-44bf-84fa-b09a941f4c90",
   "metadata": {},
   "outputs": [],
   "source": [
    "# 1. Define the grid\n",
    "x_grid = val_ds.x_grid\n",
    "y_grid = val_ds.y_grid\n",
    "z_grid = val_ds.z_grid\n",
    "\n",
    "# 3. Define query points\n",
    "query_points = inputs[0, :, :3]\n",
    "\n",
    "# Filter points inside the spacial bounds\n",
    "# Filter x axis\n",
    "x_filter_mask = (query_points[:, 0] < x_grid.max()) & (query_points[:, 0] > x_grid.min())\n",
    "query_points = query_points[x_filter_mask]\n",
    "targets = targets[:, x_filter_mask]\n",
    "mlp_preds = mlp_preds[:, x_filter_mask]\n",
    "\n",
    "\n",
    "# Filter y axis\n",
    "y_filter_mask = (query_points[:, 1] < y_grid.max()) & (query_points[:, 1] > y_grid.min())\n",
    "query_points = query_points[y_filter_mask]\n",
    "targets = targets[:, y_filter_mask]\n",
    "mlp_preds = mlp_preds[:, y_filter_mask]\n",
    "\n",
    "# Filter z axis\n",
    "z_filter_mask = (query_points[:, 2] < z_grid.max()) & (query_points[:, 2] > z_grid.min())\n",
    "query_points = query_points[z_filter_mask]\n",
    "targets = targets[:, z_filter_mask]\n",
    "mlp_preds = mlp_preds[:, z_filter_mask]\n"
   ]
  },
  {
   "cell_type": "code",
   "execution_count": 17,
   "id": "9483b14d-5d38-4555-bc0f-cb6a00d8a746",
   "metadata": {},
   "outputs": [],
   "source": [
    "preds_mesh = preds_mesh[:, 0].numpy()"
   ]
  },
  {
   "cell_type": "code",
   "execution_count": null,
   "id": "0238c412-9695-4382-b973-f2c899018d3a",
   "metadata": {},
   "outputs": [],
   "source": []
  },
  {
   "cell_type": "code",
   "execution_count": null,
   "id": "bdf8e9d7-9c90-4536-8e02-9f83a270cb52",
   "metadata": {},
   "outputs": [],
   "source": []
  },
  {
   "cell_type": "code",
   "execution_count": null,
   "id": "ca5fa5f8-9fbe-4d9a-a888-20a3417b825b",
   "metadata": {},
   "outputs": [],
   "source": []
  },
  {
   "cell_type": "code",
   "execution_count": 18,
   "id": "a52bdc48-3733-48da-97be-b6e41e75155c",
   "metadata": {
    "scrolled": true
   },
   "outputs": [],
   "source": [
    "from scipy.interpolate import RegularGridInterpolator\n",
    "\n",
    "def query_values_from_mesh(preds_mesh, x_grid, y_grid, z_grid, query_points):\n",
    "    \n",
    "    # 2. Create the interpolator\n",
    "    interpolator = RegularGridInterpolator((x_grid, y_grid, z_grid), preds_mesh)\n",
    "    \n",
    "    # 4. Query the interpolator\n",
    "    queried_values = interpolator(query_points)\n",
    "\n",
    "    return queried_values"
   ]
  },
  {
   "cell_type": "code",
   "execution_count": null,
   "id": "cc02712c-332b-4244-943c-99b2599e12ca",
   "metadata": {},
   "outputs": [],
   "source": []
  },
  {
   "cell_type": "code",
   "execution_count": null,
   "id": "e89cab07-5890-405e-8c07-d76f6aea05b9",
   "metadata": {},
   "outputs": [],
   "source": []
  },
  {
   "cell_type": "code",
   "execution_count": null,
   "id": "62e1a385-0970-41f1-8d52-63a786db211a",
   "metadata": {},
   "outputs": [],
   "source": []
  },
  {
   "cell_type": "code",
   "execution_count": null,
   "id": "818be2e1-f463-4738-8693-7faa1de1ca8a",
   "metadata": {},
   "outputs": [],
   "source": []
  },
  {
   "cell_type": "code",
   "execution_count": 19,
   "id": "c270fa63-52e5-4ab4-8a18-0b2dbdabbc2b",
   "metadata": {},
   "outputs": [
    {
     "name": "stderr",
     "output_type": "stream",
     "text": [
      "100%|██████████| 563/563 [00:04<00:00, 124.37it/s]\n"
     ]
    }
   ],
   "source": [
    "from tqdm import tqdm\n",
    "\n",
    "preds_points = []\n",
    "\n",
    "for t in tqdm(range(preds_mesh.shape[0])):\n",
    "\n",
    "    queried_values = query_values_from_mesh(preds_mesh[t], x_grid, y_grid,  z_grid, query_points)\n",
    "    preds_points.append(queried_values[...,None])\n",
    "\n",
    "preds_points = np.array(preds_points)"
   ]
  },
  {
   "cell_type": "code",
   "execution_count": 20,
   "id": "4476846a-021f-4fe0-8a21-ca87e39e549d",
   "metadata": {},
   "outputs": [
    {
     "data": {
      "text/plain": [
       "False"
      ]
     },
     "execution_count": 20,
     "metadata": {},
     "output_type": "execute_result"
    }
   ],
   "source": [
    "np.isnan(preds_points).all()"
   ]
  },
  {
   "cell_type": "code",
   "execution_count": null,
   "id": "52e810ce-62bc-49d3-ba8b-e37ce1e2dbcd",
   "metadata": {},
   "outputs": [],
   "source": []
  },
  {
   "cell_type": "code",
   "execution_count": 21,
   "id": "03027940-ee4c-4185-9f17-97fc0735ff3c",
   "metadata": {},
   "outputs": [],
   "source": [
    "from sklearn.metrics import mean_squared_error, r2_score"
   ]
  },
  {
   "cell_type": "code",
   "execution_count": 22,
   "id": "1464dc70-f869-4fea-a009-ad40f752e8b2",
   "metadata": {},
   "outputs": [
    {
     "data": {
      "text/plain": [
       "0.001922621593382303"
      ]
     },
     "execution_count": 22,
     "metadata": {},
     "output_type": "execute_result"
    }
   ],
   "source": [
    "mask = ~np.isnan(preds_points)\n",
    "\n",
    "mean_squared_error(targets[mask].flatten(), preds_points[mask].flatten())"
   ]
  },
  {
   "cell_type": "code",
   "execution_count": 23,
   "id": "faaac259-b460-4730-9fd3-e941447d2f4c",
   "metadata": {},
   "outputs": [
    {
     "data": {
      "text/plain": [
       "0.12388200412842304"
      ]
     },
     "execution_count": 23,
     "metadata": {},
     "output_type": "execute_result"
    }
   ],
   "source": [
    "mean_squared_error(targets.flatten(), mlp_preds.flatten())"
   ]
  },
  {
   "cell_type": "code",
   "execution_count": 24,
   "id": "764d1719-fdca-4c8d-a0af-8eb03ab9e8ab",
   "metadata": {},
   "outputs": [
    {
     "data": {
      "text/plain": [
       "0.9387202675959075"
      ]
     },
     "execution_count": 24,
     "metadata": {},
     "output_type": "execute_result"
    }
   ],
   "source": [
    "r2_score(targets[mask].flatten(), preds_points[mask].flatten())"
   ]
  },
  {
   "cell_type": "code",
   "execution_count": 25,
   "id": "4295fa39-5d00-4401-ac08-33568f4f0fea",
   "metadata": {},
   "outputs": [
    {
     "data": {
      "text/plain": [
       "-2.73651545011806"
      ]
     },
     "execution_count": 25,
     "metadata": {},
     "output_type": "execute_result"
    }
   ],
   "source": [
    "r2_score(targets.flatten(), mlp_preds.flatten())"
   ]
  },
  {
   "cell_type": "code",
   "execution_count": null,
   "id": "5b356b5d-bd9e-41c8-b2b4-31df6fa357bc",
   "metadata": {},
   "outputs": [],
   "source": []
  },
  {
   "cell_type": "code",
   "execution_count": null,
   "id": "9b1ff51c-f5d5-4b26-bad0-7fb9188980bd",
   "metadata": {},
   "outputs": [],
   "source": []
  },
  {
   "cell_type": "code",
   "execution_count": null,
   "id": "96f6e4d2-90a5-4f31-82a6-3f92a37127d5",
   "metadata": {},
   "outputs": [],
   "source": []
  },
  {
   "cell_type": "code",
   "execution_count": 26,
   "id": "ebc06edd-90a9-45f1-8e60-0bc7deb72427",
   "metadata": {},
   "outputs": [
    {
     "name": "stderr",
     "output_type": "stream",
     "text": [
      "100%|██████████| 563/563 [26:58<00:00,  2.88s/it]\n"
     ]
    }
   ],
   "source": [
    "timesteps = np.arange(preds_mesh.shape[0])\n",
    "\n",
    "for t in tqdm(timesteps):\n",
    "\n",
    "    inputs_init = query_points\n",
    "    targets_init = targets[t]\n",
    "    fno_preds = preds_points[t]\n",
    "    mlp_preds_init = mlp_preds[t]\n",
    "    \n",
    "    fig = plt.figure(figsize=(21, 6))\n",
    "    ax1 = fig.add_subplot(1, 3, 1, projection='3d')\n",
    "    ax2 = fig.add_subplot(1, 3, 2, projection='3d')\n",
    "    ax3 = fig.add_subplot(1, 3, 3, projection='3d')\n",
    "    \n",
    "    im1 = ax1.scatter(inputs_init[:, 0], inputs_init[:, 1], inputs_init[:, 2], c=fno_preds[:, 0], alpha=0.5,\n",
    "                      vmin=targets_init[:, 0].min(), vmax=targets_init[:, 0].max())\n",
    "    ax1.set_title('Hydraulic-Head FNO')\n",
    "\n",
    "    # im2 = ax2.scatter(inputs_init[:, 0], inputs_init[:, 1], inputs_init[:, 2], c=mlp_preds_init[:, 0], alpha=0.5,\n",
    "    #                   vmin=targets_init[:, 0].min(), vmax=targets_init[:, 0].max())\n",
    "    # ax2.set_title('Hydraulic-Head MLP')\n",
    "    \n",
    "    im2 = ax2.scatter(inputs_init[:, 0], inputs_init[:, 1], inputs_init[:, 2], c=targets_init[:, 0], alpha=0.5,\n",
    "                      vmin=targets_init[:, 0].min(), vmax=targets_init[:, 0].max())\n",
    "    ax2.set_title('Hydraulic-Head Targets')\n",
    "\n",
    "    im3 = ax3.scatter(inputs_init[:, 0], inputs_init[:, 1], inputs_init[:, 2], c=fno_preds[:, 0]-targets_init[:, 0],\n",
    "                      alpha=0.7, cmap='coolwarm')\n",
    "    ax3.set_title('Error (Preds - Targets)')\n",
    "\n",
    "    \n",
    "    fig.colorbar(im1)\n",
    "    fig.colorbar(im2)\n",
    "    fig.colorbar(im3)\n",
    "\n",
    "    os.makedirs('../results/FNO/point_preds_error/', exist_ok=True)\n",
    "    \n",
    "    fig.savefig(f'../results/FNO/point_preds_error/{t:d}.png', bbox_inches='tight')\n",
    "\n",
    "    plt.clf()\n",
    "    plt.close()\n",
    "    # plt.show()\n",
    "    # break"
   ]
  },
  {
   "cell_type": "code",
   "execution_count": null,
   "id": "cc796fbc-d237-46bb-bef7-a2a3ef7ae131",
   "metadata": {},
   "outputs": [],
   "source": []
  },
  {
   "cell_type": "code",
   "execution_count": 27,
   "id": "d36dda0c-f3a3-4281-8400-b2650accb1e7",
   "metadata": {},
   "outputs": [],
   "source": [
    "import cv2\n",
    "import os\n",
    "\n",
    "image_folder = '../results/FNO/point_preds_error/'\n",
    "video_name = '../results/FNO/head_comparison_error.avi'\n",
    "\n",
    "images = [img for img in os.listdir(image_folder) if img.endswith(\".png\")]\n",
    "frame = cv2.imread(os.path.join(image_folder, images[0]))\n",
    "height, width, layers = frame.shape\n",
    "\n",
    "video = cv2.VideoWriter(video_name, 0, 4, (width, height))\n",
    "\n",
    "for image in images:\n",
    "    video.write(cv2.imread(os.path.join(image_folder, image)))\n",
    "\n",
    "cv2.destroyAllWindows()\n",
    "video.release()"
   ]
  },
  {
   "cell_type": "code",
   "execution_count": null,
   "id": "e1b963a3-f076-49c6-a2e8-b1487bb6874c",
   "metadata": {},
   "outputs": [],
   "source": []
  },
  {
   "cell_type": "code",
   "execution_count": null,
   "id": "059b7555-d229-47b2-871a-5ba5c6523f04",
   "metadata": {},
   "outputs": [],
   "source": []
  },
  {
   "cell_type": "code",
   "execution_count": null,
   "id": "0d3c39bd-6155-4ded-8400-09fc3ea4496d",
   "metadata": {},
   "outputs": [],
   "source": []
  },
  {
   "cell_type": "code",
   "execution_count": null,
   "id": "9d37c6fd-e448-4b95-96ac-0e0278f8f2e4",
   "metadata": {},
   "outputs": [],
   "source": []
  }
 ],
 "metadata": {
  "kernelspec": {
   "display_name": "Python 3 (ipykernel) (torch-env)",
   "language": "python",
   "name": "conda_torch-env_python3"
  },
  "language_info": {
   "codemirror_mode": {
    "name": "ipython",
    "version": 3
   },
   "file_extension": ".py",
   "mimetype": "text/x-python",
   "name": "python",
   "nbconvert_exporter": "python",
   "pygments_lexer": "ipython3",
   "version": "3.11.10"
  }
 },
 "nbformat": 4,
 "nbformat_minor": 5
}
