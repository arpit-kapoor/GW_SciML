{
 "cells": [
  {
   "cell_type": "code",
   "execution_count": 1,
   "id": "522f4a28-bfda-40c8-9a0c-71d63f7bd837",
   "metadata": {},
   "outputs": [],
   "source": [
    "import os, sys\n",
    "import pandas as pd\n",
    "import numpy as np\n",
    "import torch\n",
    "import torch.optim as optim\n",
    "\n",
    "from torch.utils.data import DataLoader"
   ]
  },
  {
   "cell_type": "code",
   "execution_count": 2,
   "id": "544f2268-8877-49d2-889b-0085ed884445",
   "metadata": {},
   "outputs": [],
   "source": [
    "sys.path.append('..')\n",
    "from src.data.grid_dataset import GWGridDataset"
   ]
  },
  {
   "cell_type": "code",
   "execution_count": 5,
   "id": "b9b0cd81-6712-48f2-b0e2-981ad1508a06",
   "metadata": {},
   "outputs": [],
   "source": [
    "base_data_dir = '/Users/arpitkapoor/Library/CloudStorage/OneDrive-UNSW/Shared/Projects/01_PhD/05_groundwater/data/FEFLOW/variable_density'  # Uncomment for local testing\n",
    "interpolated_data_dir = os.path.join(base_data_dir, 'interpolated')"
   ]
  },
  {
   "cell_type": "code",
   "execution_count": 6,
   "id": "e3e56fbc-e399-4771-9a35-1b4179b2e2cd",
   "metadata": {},
   "outputs": [
    {
     "data": {
      "text/plain": [
       "['data.npy', 'y_grid.npy', 'x_grid.npy', 'z_grid.npy']"
      ]
     },
     "execution_count": 6,
     "metadata": {},
     "output_type": "execute_result"
    }
   ],
   "source": [
    "os.listdir(interpolated_data_dir)"
   ]
  },
  {
   "cell_type": "code",
   "execution_count": 7,
   "id": "8f306baa-8ea4-4efb-b19d-0f7a96735ff7",
   "metadata": {},
   "outputs": [
    {
     "data": {
      "text/plain": [
       "1316"
      ]
     },
     "execution_count": 7,
     "metadata": {},
     "output_type": "execute_result"
    }
   ],
   "source": [
    "ds = GWGridDataset(data_path=interpolated_data_dir)\n",
    "len(ds)"
   ]
  },
  {
   "cell_type": "code",
   "execution_count": 11,
   "id": "eada315b",
   "metadata": {},
   "outputs": [
    {
     "data": {
      "text/plain": [
       "(10, 40, 40, 40)"
      ]
     },
     "execution_count": 11,
     "metadata": {},
     "output_type": "execute_result"
    }
   ],
   "source": [
    "ds[0][0].shape"
   ]
  },
  {
   "cell_type": "code",
   "execution_count": 12,
   "id": "492c0f01-94e3-4998-8d21-7f9a13f6d9a5",
   "metadata": {},
   "outputs": [],
   "source": [
    "dt = DataLoader(ds, batch_size=32)"
   ]
  },
  {
   "cell_type": "code",
   "execution_count": 13,
   "id": "8abf3712-346b-4e0a-954c-a161d2e1ff79",
   "metadata": {},
   "outputs": [],
   "source": [
    "device = torch.device(\"cuda:0\" if torch.cuda.is_available() else \"cpu\")"
   ]
  },
  {
   "cell_type": "code",
   "execution_count": 14,
   "id": "03484d66-9963-4b7b-9dd6-86d6da07daa9",
   "metadata": {},
   "outputs": [],
   "source": [
    "for batch in dt:\n",
    "    for k in batch.keys():\n",
    "        batch[k].to(device)\n",
    "        break"
   ]
  },
  {
   "cell_type": "code",
   "execution_count": 15,
   "id": "ba9f52bf-e61b-490d-adc0-ba8b6c60e3df",
   "metadata": {
    "scrolled": true
   },
   "outputs": [],
   "source": [
    "X = batch['x']"
   ]
  },
  {
   "cell_type": "code",
   "execution_count": null,
   "id": "415b7b43-d1a2-4e45-a0c7-2782a6c38406",
   "metadata": {},
   "outputs": [],
   "source": []
  }
 ],
 "metadata": {
  "kernelspec": {
   "display_name": "neuralop-env",
   "language": "python",
   "name": "python3"
  },
  "language_info": {
   "codemirror_mode": {
    "name": "ipython",
    "version": 3
   },
   "file_extension": ".py",
   "mimetype": "text/x-python",
   "name": "python",
   "nbconvert_exporter": "python",
   "pygments_lexer": "ipython3",
   "version": "3.12.11"
  }
 },
 "nbformat": 4,
 "nbformat_minor": 5
}
