{
 "cells": [
  {
   "cell_type": "code",
   "execution_count": 1,
   "id": "095c4a4e-b899-4250-a9e8-7a397c8da3bb",
   "metadata": {},
   "outputs": [],
   "source": [
    "import numpy as np\n",
    "import pandas as pd\n",
    "\n",
    "import matplotlib.pyplot as plt"
   ]
  },
  {
   "cell_type": "code",
   "execution_count": 2,
   "id": "c16c5aef-f605-4197-a51b-a6f38b69c3a0",
   "metadata": {},
   "outputs": [],
   "source": [
    "inputs_file = '../results/inputs.npy'\n",
    "targets_file = '../results/targets.npy'\n",
    "preds_file = '../results/preds.npy'"
   ]
  },
  {
   "cell_type": "code",
   "execution_count": 3,
   "id": "04de89a3-8eb1-4651-8ae5-b969d9301355",
   "metadata": {},
   "outputs": [],
   "source": [
    "inputs = np.load(inputs_file)\n",
    "targets = np.load(targets_file)\n",
    "preds = np.load(preds_file)"
   ]
  },
  {
   "cell_type": "code",
   "execution_count": 4,
   "id": "b0375105-3ad3-4e02-b28c-9edd0316ba4a",
   "metadata": {},
   "outputs": [
    {
     "data": {
      "text/plain": [
       "((5860071, 4), (5860071, 2), (5860071, 2))"
      ]
     },
     "execution_count": 4,
     "metadata": {},
     "output_type": "execute_result"
    }
   ],
   "source": [
    "inputs.shape, targets.shape, preds.shape"
   ]
  },
  {
   "cell_type": "code",
   "execution_count": 5,
   "id": "ab61daf1-07b8-4fe5-af2e-1f1e3866d700",
   "metadata": {},
   "outputs": [],
   "source": [
    "input_mean = np.array([1523.10199582, 1729.62046887,   26.72577967,  316.5513978])\n",
    "input_std = np.array([569.13566635, 566.33636362,  14.90088159, 183.2160048 ])\n",
    "\n",
    "inputs = inputs * input_std + input_mean"
   ]
  },
  {
   "cell_type": "code",
   "execution_count": 6,
   "id": "4266c2e1-7635-4120-8f89-d7be3db0f9d4",
   "metadata": {},
   "outputs": [],
   "source": [
    "output_mean = np.array([3.29223762e-01, 1.78798090e+04])\n",
    "output_std = np.array([2.17284490e-01, 1.51990336e+04])\n",
    "\n",
    "targets = targets * output_std + output_mean"
   ]
  },
  {
   "cell_type": "code",
   "execution_count": 7,
   "id": "b7d7b552-6ebd-451e-ad02-00eb42420c36",
   "metadata": {},
   "outputs": [],
   "source": [
    "preds = preds * output_std + output_mean"
   ]
  },
  {
   "cell_type": "code",
   "execution_count": 8,
   "id": "dd47efd9-c6b3-4e76-bfc1-69933f14efea",
   "metadata": {},
   "outputs": [
    {
     "data": {
      "text/plain": [
       "(573,)"
      ]
     },
     "execution_count": 8,
     "metadata": {},
     "output_type": "execute_result"
    }
   ],
   "source": [
    "timesteps = np.unique(inputs[:, -1])\n",
    "timesteps.shape"
   ]
  },
  {
   "cell_type": "code",
   "execution_count": 9,
   "id": "55e39c9e-3292-409b-b99f-09f6189bd3b2",
   "metadata": {
    "scrolled": true
   },
   "outputs": [],
   "source": [
    "for t in timesteps:\n",
    "    \n",
    "    inputs_init = inputs[inputs[:, -1]==t]\n",
    "    targets_init = targets[inputs[:, -1]==t]\n",
    "    preds_init = preds[inputs[:, -1]==t]\n",
    "    \n",
    "    fig = plt.figure(figsize=(16, 6))\n",
    "    ax1 = fig.add_subplot(1, 2, 1, projection='3d')\n",
    "    ax2 = fig.add_subplot(1, 2, 2, projection='3d')\n",
    "    \n",
    "    im1 = ax1.scatter(inputs_init[:, 0], inputs_init[:, 1], inputs_init[:, 2], c=preds_init[:, 0], vmin=targets_init[:, 0].min(), vmax=targets_init[:, 0].max())\n",
    "    ax1.set_title('Hydraulic-Head Predictions')\n",
    "    \n",
    "    im2 = ax2.scatter(inputs_init[:, 0], inputs_init[:, 1], inputs_init[:, 2], c=targets_init[:, 0])\n",
    "    ax2.set_title('Hydraulic-Head Targets')\n",
    "    \n",
    "    fig.colorbar(im1)\n",
    "    fig.colorbar(im2)\n",
    "    \n",
    "    fig.savefig(f'../results/plots/head/{t:.2f}.png', bbox_inches='tight')\n",
    "\n",
    "    plt.clf()\n",
    "    plt.close()"
   ]
  },
  {
   "cell_type": "code",
   "execution_count": 10,
   "id": "39552f50-064d-4639-a987-a1c17111a0b3",
   "metadata": {},
   "outputs": [],
   "source": [
    "import cv2\n",
    "import os\n"
   ]
  },
  {
   "cell_type": "code",
   "execution_count": 11,
   "id": "b1c94bb7-3c56-429c-88cf-5e6297d6dba1",
   "metadata": {},
   "outputs": [],
   "source": [
    "image_folder = '../results/plots/head/'\n",
    "video_name = '../results/plots/head.avi'\n",
    "\n",
    "images = [img for img in os.listdir(image_folder) if img.endswith(\".png\")]\n",
    "frame = cv2.imread(os.path.join(image_folder, images[0]))\n",
    "height, width, layers = frame.shape\n",
    "\n",
    "video = cv2.VideoWriter(video_name, 0, 4, (width, height))\n",
    "\n",
    "for image in images:\n",
    "    video.write(cv2.imread(os.path.join(image_folder, image)))\n",
    "\n",
    "cv2.destroyAllWindows()\n",
    "video.release()"
   ]
  },
  {
   "cell_type": "code",
   "execution_count": null,
   "id": "8d96d08a-7d8a-4c91-b499-2b32e1f26a43",
   "metadata": {},
   "outputs": [],
   "source": []
  },
  {
   "cell_type": "code",
   "execution_count": null,
   "id": "e4a08f58-b5bd-434b-b9a0-01f33fe0da21",
   "metadata": {},
   "outputs": [],
   "source": []
  }
 ],
 "metadata": {
  "kernelspec": {
   "display_name": "Python 3 (ipykernel) (torch-env)",
   "language": "python",
   "name": "conda_torch-env_python3"
  },
  "language_info": {
   "codemirror_mode": {
    "name": "ipython",
    "version": 3
   },
   "file_extension": ".py",
   "mimetype": "text/x-python",
   "name": "python",
   "nbconvert_exporter": "python",
   "pygments_lexer": "ipython3",
   "version": "3.11.10"
  }
 },
 "nbformat": 4,
 "nbformat_minor": 5
}
