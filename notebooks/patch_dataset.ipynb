{
 "cells": [
  {
   "cell_type": "code",
   "execution_count": 30,
   "id": "cee04abc",
   "metadata": {},
   "outputs": [],
   "source": [
    "import os\n",
    "import json\n",
    "import pandas as pd\n",
    "import numpy as np\n",
    "from tqdm import tqdm\n",
    "\n",
    "import torch\n",
    "from torch.utils.data import Dataset, DataLoader"
   ]
  },
  {
   "cell_type": "code",
   "execution_count": 2,
   "id": "3805cf08",
   "metadata": {},
   "outputs": [
    {
     "name": "stdout",
     "output_type": "stream",
     "text": [
      "Base data directory: /Users/arpitkapoor/Library/CloudStorage/OneDrive-UNSW/Shared/Projects/01_PhD/05_groundwater/data/FEFLOW/variable_density\n",
      "Raw data directory: /Users/arpitkapoor/Library/CloudStorage/OneDrive-UNSW/Shared/Projects/01_PhD/05_groundwater/data/FEFLOW/variable_density/all\n",
      "Patch filtered data directory: /Users/arpitkapoor/Library/CloudStorage/OneDrive-UNSW/Shared/Projects/01_PhD/05_groundwater/data/FEFLOW/variable_density/filter_patch\n"
     ]
    }
   ],
   "source": [
    "# Define data directories\n",
    "# base_data_dir = '/srv/scratch/z5370003/projects/data/groundwater/FEFLOW/coastal/variable_density/'\n",
    "base_data_dir = '/Users/arpitkapoor/Library/CloudStorage/OneDrive-UNSW/Shared/Projects/01_PhD/05_groundwater/data/FEFLOW/variable_density'  # Uncomment for local testing\n",
    "raw_data_dir = os.path.join(base_data_dir, 'all')\n",
    "patch_data_dir = os.path.join(base_data_dir, 'filter_patch')\n",
    "\n",
    "print(f\"Base data directory: {base_data_dir}\")\n",
    "print(f\"Raw data directory: {raw_data_dir}\")\n",
    "print(f\"Patch filtered data directory: {patch_data_dir}\")"
   ]
  },
  {
   "cell_type": "code",
   "execution_count": 29,
   "id": "90af1b92",
   "metadata": {},
   "outputs": [],
   "source": [
    "import sys\n",
    "sys.path.append('../')\n",
    "from src.data.transform import Normalize\n",
    "from src.data.patch_dataset import GWPatchDataset\n",
    "from src.data.batch_sampler import PatchBatchSampler"
   ]
  },
  {
   "cell_type": "code",
   "execution_count": 4,
   "id": "b7ca45e9",
   "metadata": {},
   "outputs": [
    {
     "name": "stdout",
     "output_type": "stream",
     "text": [
      "Coordinate mean: [ 3.57225665e+05  6.45774324e+06 -9.27782248e+00]\n",
      "Coordinate std: [569.1699999  566.35797379  15.26565618]\n"
     ]
    }
   ],
   "source": [
    "# Read data\n",
    "df = pd.read_csv(os.path.join(raw_data_dir, '0000.csv'))\n",
    "\n",
    "# Calculate mean and std of coordinates\n",
    "coord_mean = df[['X', 'Y', 'Z']].mean().values\n",
    "coord_std = df[['X', 'Y', 'Z']].std().values\n",
    "\n",
    "# Print mean and std of coordinates\n",
    "print(f\"Coordinate mean: {coord_mean}\")\n",
    "print(f\"Coordinate std: {coord_std}\")\n",
    "\n",
    "# Create coordinate transform\n",
    "coord_transform = Normalize(mean=coord_mean, std=coord_std)\n",
    "\n",
    "del df"
   ]
  },
  {
   "cell_type": "code",
   "execution_count": 5,
   "id": "ad08a2e5",
   "metadata": {},
   "outputs": [
    {
     "name": "stdout",
     "output_type": "stream",
     "text": [
      "Output mean: [1.77942252e+04 3.95881156e-01 9.48469883e+01]\n",
      "Output std: [1.55859465e+04 2.13080032e-01 1.51226320e+02]\n"
     ]
    }
   ],
   "source": [
    "# Read data\n",
    "df = pd.read_csv(os.path.join(raw_data_dir, '0000.csv'))\n",
    "\n",
    "# Define output columns\n",
    "obs_cols = ['mass_concentration', 'head', 'pressure']\n",
    "\n",
    "# Mean and std of output\n",
    "obs_mean = df[obs_cols].mean().values\n",
    "obs_std = df[obs_cols].std().values\n",
    "\n",
    "# Print mean and std of output\n",
    "print(f\"Output mean: {obs_mean}\")\n",
    "print(f\"Output std: {obs_std}\")\n",
    "\n",
    "# Define output transform\n",
    "obs_transform = Normalize(mean=obs_mean, std=obs_std)\n",
    "\n",
    "del df"
   ]
  },
  {
   "cell_type": "code",
   "execution_count": 6,
   "id": "ca204882",
   "metadata": {},
   "outputs": [],
   "source": [
    "input_window_size = 5\n",
    "output_window_size = 5"
   ]
  },
  {
   "cell_type": "code",
   "execution_count": 7,
   "id": "22cb75f5",
   "metadata": {},
   "outputs": [
    {
     "data": {
      "text/plain": [
       "13180"
      ]
     },
     "execution_count": 7,
     "metadata": {},
     "output_type": "execute_result"
    }
   ],
   "source": [
    "patch_ds = GWPatchDataset(data_path=patch_data_dir, dataset='train', \n",
    "                          coord_transform=coord_transform, \n",
    "                          obs_transform=obs_transform,\n",
    "                          input_window_size=input_window_size,\n",
    "                          output_window_size=output_window_size,\n",
    "                          target_col_idx=1)\n",
    "len(patch_ds)"
   ]
  },
  {
   "cell_type": "code",
   "execution_count": 8,
   "id": "84ffb04a",
   "metadata": {},
   "outputs": [
    {
     "data": {
      "text/plain": [
       "torch.Size([405, 5])"
      ]
     },
     "execution_count": 8,
     "metadata": {},
     "output_type": "execute_result"
    }
   ],
   "source": [
    "patch_ds[0]['core_in'].shape"
   ]
  },
  {
   "cell_type": "code",
   "execution_count": 10,
   "id": "cc54ab16",
   "metadata": {},
   "outputs": [
    {
     "data": {
      "text/plain": [
       "dict_keys(['core_in', 'ghost_in', 'core_out', 'ghost_out', 'patch_id', 'core_coords', 'ghost_coords'])"
      ]
     },
     "execution_count": 10,
     "metadata": {},
     "output_type": "execute_result"
    }
   ],
   "source": [
    "patch_ds[0].keys()"
   ]
  },
  {
   "cell_type": "code",
   "execution_count": 33,
   "id": "8ead862b",
   "metadata": {},
   "outputs": [],
   "source": [
    "batch_sampler = PatchBatchSampler(patch_ds, batch_size=32)\n",
    "patch_dl = DataLoader(patch_ds, batch_sampler=batch_sampler)\n"
   ]
  },
  {
   "cell_type": "code",
   "execution_count": 34,
   "id": "2a3c3fc4",
   "metadata": {},
   "outputs": [
    {
     "name": "stdout",
     "output_type": "stream",
     "text": [
      "torch.Size([32, 405, 5]) torch.Size([32, 104, 5]) torch.Size([32, 405, 5]) torch.Size([32, 104, 5])\n",
      "torch.Size([32, 405, 3]) torch.Size([32, 104, 3])\n"
     ]
    }
   ],
   "source": [
    "for patch_data in patch_dl:\n",
    "    print(patch_data['core_in'].shape, patch_data['ghost_in'].shape, patch_data['core_out'].shape, patch_data['ghost_out'].shape)\n",
    "    print(patch_data['core_coords'].shape, patch_data['ghost_coords'].shape)\n",
    "    break"
   ]
  },
  {
   "cell_type": "code",
   "execution_count": null,
   "id": "be7234de",
   "metadata": {},
   "outputs": [],
   "source": []
  },
  {
   "cell_type": "code",
   "execution_count": null,
   "id": "debec12d",
   "metadata": {},
   "outputs": [],
   "source": []
  },
  {
   "cell_type": "code",
   "execution_count": 9,
   "id": "b4e8d002",
   "metadata": {},
   "outputs": [
    {
     "name": "stdout",
     "output_type": "stream",
     "text": [
      "[('core_in', torch.Size([5, 955])), ('ghost_in', torch.Size([5, 955])), ('core_out', torch.Size([5, 955])), ('ghost_out', torch.Size([5, 955])), ('patch_id', 1), ('core_coords', torch.Size([405, 3])), ('ghost_coords', torch.Size([104, 3]))]\n",
      "[('core_in', torch.Size([5, 955])), ('ghost_in', torch.Size([5, 955])), ('core_out', torch.Size([5, 955])), ('ghost_out', torch.Size([5, 955])), ('patch_id', 1), ('core_coords', torch.Size([405, 3])), ('ghost_coords', torch.Size([104, 3]))]\n",
      "[('core_in', torch.Size([5, 955])), ('ghost_in', torch.Size([5, 955])), ('core_out', torch.Size([5, 955])), ('ghost_out', torch.Size([5, 955])), ('patch_id', 1), ('core_coords', torch.Size([405, 3])), ('ghost_coords', torch.Size([104, 3]))]\n",
      "[('core_in', torch.Size([5, 955])), ('ghost_in', torch.Size([5, 955])), ('core_out', torch.Size([5, 955])), ('ghost_out', torch.Size([5, 955])), ('patch_id', 1), ('core_coords', torch.Size([405, 3])), ('ghost_coords', torch.Size([104, 3]))]\n",
      "[('core_in', torch.Size([5, 955])), ('ghost_in', torch.Size([5, 955])), ('core_out', torch.Size([5, 955])), ('ghost_out', torch.Size([5, 955])), ('patch_id', 1), ('core_coords', torch.Size([405, 3])), ('ghost_coords', torch.Size([104, 3]))]\n",
      "[('core_in', torch.Size([5, 955])), ('ghost_in', torch.Size([5, 955])), ('core_out', torch.Size([5, 955])), ('ghost_out', torch.Size([5, 955])), ('patch_id', 1), ('core_coords', torch.Size([405, 3])), ('ghost_coords', torch.Size([104, 3]))]\n",
      "[('core_in', torch.Size([5, 955])), ('ghost_in', torch.Size([5, 955])), ('core_out', torch.Size([5, 955])), ('ghost_out', torch.Size([5, 955])), ('patch_id', 1), ('core_coords', torch.Size([405, 3])), ('ghost_coords', torch.Size([104, 3]))]\n",
      "[('core_in', torch.Size([5, 955])), ('ghost_in', torch.Size([5, 955])), ('core_out', torch.Size([5, 955])), ('ghost_out', torch.Size([5, 955])), ('patch_id', 1), ('core_coords', torch.Size([405, 3])), ('ghost_coords', torch.Size([104, 3]))]\n",
      "[('core_in', torch.Size([5, 955])), ('ghost_in', torch.Size([5, 955])), ('core_out', torch.Size([5, 955])), ('ghost_out', torch.Size([5, 955])), ('patch_id', 1), ('core_coords', torch.Size([405, 3])), ('ghost_coords', torch.Size([104, 3]))]\n",
      "[('core_in', torch.Size([5, 955])), ('ghost_in', torch.Size([5, 955])), ('core_out', torch.Size([5, 955])), ('ghost_out', torch.Size([5, 955])), ('patch_id', 1), ('core_coords', torch.Size([405, 3])), ('ghost_coords', torch.Size([104, 3]))]\n",
      "[('core_in', torch.Size([5, 955])), ('ghost_in', torch.Size([5, 955])), ('core_out', torch.Size([5, 955])), ('ghost_out', torch.Size([5, 955])), ('patch_id', 1), ('core_coords', torch.Size([405, 3])), ('ghost_coords', torch.Size([104, 3]))]\n",
      "[('core_in', torch.Size([5, 955])), ('ghost_in', torch.Size([5, 955])), ('core_out', torch.Size([5, 955])), ('ghost_out', torch.Size([5, 955])), ('patch_id', 1), ('core_coords', torch.Size([405, 3])), ('ghost_coords', torch.Size([104, 3]))]\n",
      "[('core_in', torch.Size([5, 955])), ('ghost_in', torch.Size([5, 955])), ('core_out', torch.Size([5, 955])), ('ghost_out', torch.Size([5, 955])), ('patch_id', 1), ('core_coords', torch.Size([405, 3])), ('ghost_coords', torch.Size([104, 3]))]\n",
      "[('core_in', torch.Size([5, 955])), ('ghost_in', torch.Size([5, 955])), ('core_out', torch.Size([5, 955])), ('ghost_out', torch.Size([5, 955])), ('patch_id', 1), ('core_coords', torch.Size([405, 3])), ('ghost_coords', torch.Size([104, 3]))]\n",
      "[('core_in', torch.Size([5, 955])), ('ghost_in', torch.Size([5, 955])), ('core_out', torch.Size([5, 955])), ('ghost_out', torch.Size([5, 955])), ('patch_id', 1), ('core_coords', torch.Size([405, 3])), ('ghost_coords', torch.Size([104, 3]))]\n",
      "[('core_in', torch.Size([5, 955])), ('ghost_in', torch.Size([5, 955])), ('core_out', torch.Size([5, 955])), ('ghost_out', torch.Size([5, 955])), ('patch_id', 1), ('core_coords', torch.Size([405, 3])), ('ghost_coords', torch.Size([104, 3]))]\n",
      "[('core_in', torch.Size([5, 955])), ('ghost_in', torch.Size([5, 955])), ('core_out', torch.Size([5, 955])), ('ghost_out', torch.Size([5, 955])), ('patch_id', 1), ('core_coords', torch.Size([405, 3])), ('ghost_coords', torch.Size([104, 3]))]\n",
      "[('core_in', torch.Size([5, 955])), ('ghost_in', torch.Size([5, 955])), ('core_out', torch.Size([5, 955])), ('ghost_out', torch.Size([5, 955])), ('patch_id', 1), ('core_coords', torch.Size([405, 3])), ('ghost_coords', torch.Size([104, 3]))]\n",
      "[('core_in', torch.Size([5, 955])), ('ghost_in', torch.Size([5, 955])), ('core_out', torch.Size([5, 955])), ('ghost_out', torch.Size([5, 955])), ('patch_id', 1), ('core_coords', torch.Size([405, 3])), ('ghost_coords', torch.Size([104, 3]))]\n",
      "[('core_in', torch.Size([5, 955])), ('ghost_in', torch.Size([5, 955])), ('core_out', torch.Size([5, 955])), ('ghost_out', torch.Size([5, 955])), ('patch_id', 1), ('core_coords', torch.Size([405, 3])), ('ghost_coords', torch.Size([104, 3]))]\n",
      "[('core_in', torch.Size([5, 955])), ('ghost_in', torch.Size([5, 955])), ('core_out', torch.Size([5, 955])), ('ghost_out', torch.Size([5, 955])), ('patch_id', 1), ('core_coords', torch.Size([405, 3])), ('ghost_coords', torch.Size([104, 3]))]\n",
      "[('core_in', torch.Size([5, 955])), ('ghost_in', torch.Size([5, 955])), ('core_out', torch.Size([5, 955])), ('ghost_out', torch.Size([5, 955])), ('patch_id', 1), ('core_coords', torch.Size([405, 3])), ('ghost_coords', torch.Size([104, 3]))]\n",
      "[('core_in', torch.Size([5, 955])), ('ghost_in', torch.Size([5, 955])), ('core_out', torch.Size([5, 955])), ('ghost_out', torch.Size([5, 955])), ('patch_id', 1), ('core_coords', torch.Size([405, 3])), ('ghost_coords', torch.Size([104, 3]))]\n",
      "[('core_in', torch.Size([5, 955])), ('ghost_in', torch.Size([5, 955])), ('core_out', torch.Size([5, 955])), ('ghost_out', torch.Size([5, 955])), ('patch_id', 1), ('core_coords', torch.Size([405, 3])), ('ghost_coords', torch.Size([104, 3]))]\n",
      "[('core_in', torch.Size([5, 955])), ('ghost_in', torch.Size([5, 955])), ('core_out', torch.Size([5, 955])), ('ghost_out', torch.Size([5, 955])), ('patch_id', 1), ('core_coords', torch.Size([405, 3])), ('ghost_coords', torch.Size([104, 3]))]\n",
      "[('core_in', torch.Size([5, 955])), ('ghost_in', torch.Size([5, 955])), ('core_out', torch.Size([5, 955])), ('ghost_out', torch.Size([5, 955])), ('patch_id', 1), ('core_coords', torch.Size([405, 3])), ('ghost_coords', torch.Size([104, 3]))]\n",
      "[('core_in', torch.Size([5, 955])), ('ghost_in', torch.Size([5, 955])), ('core_out', torch.Size([5, 955])), ('ghost_out', torch.Size([5, 955])), ('patch_id', 1), ('core_coords', torch.Size([405, 3])), ('ghost_coords', torch.Size([104, 3]))]\n",
      "[('core_in', torch.Size([5, 955])), ('ghost_in', torch.Size([5, 955])), ('core_out', torch.Size([5, 955])), ('ghost_out', torch.Size([5, 955])), ('patch_id', 1), ('core_coords', torch.Size([405, 3])), ('ghost_coords', torch.Size([104, 3]))]\n",
      "[('core_in', torch.Size([5, 955])), ('ghost_in', torch.Size([5, 955])), ('core_out', torch.Size([5, 955])), ('ghost_out', torch.Size([5, 955])), ('patch_id', 1), ('core_coords', torch.Size([405, 3])), ('ghost_coords', torch.Size([104, 3]))]\n",
      "[('core_in', torch.Size([5, 955])), ('ghost_in', torch.Size([5, 955])), ('core_out', torch.Size([5, 955])), ('ghost_out', torch.Size([5, 955])), ('patch_id', 1), ('core_coords', torch.Size([405, 3])), ('ghost_coords', torch.Size([104, 3]))]\n",
      "[('core_in', torch.Size([5, 955])), ('ghost_in', torch.Size([5, 955])), ('core_out', torch.Size([5, 955])), ('ghost_out', torch.Size([5, 955])), ('patch_id', 1), ('core_coords', torch.Size([405, 3])), ('ghost_coords', torch.Size([104, 3]))]\n",
      "[('core_in', torch.Size([5, 955])), ('ghost_in', torch.Size([5, 955])), ('core_out', torch.Size([5, 955])), ('ghost_out', torch.Size([5, 955])), ('patch_id', 1), ('core_coords', torch.Size([405, 3])), ('ghost_coords', torch.Size([104, 3]))]\n",
      "[('core_in', torch.Size([5, 955])), ('ghost_in', torch.Size([5, 955])), ('core_out', torch.Size([5, 955])), ('ghost_out', torch.Size([5, 955])), ('patch_id', 1), ('core_coords', torch.Size([405, 3])), ('ghost_coords', torch.Size([104, 3]))]\n",
      "[('core_in', torch.Size([5, 955])), ('ghost_in', torch.Size([5, 955])), ('core_out', torch.Size([5, 955])), ('ghost_out', torch.Size([5, 955])), ('patch_id', 1), ('core_coords', torch.Size([405, 3])), ('ghost_coords', torch.Size([104, 3]))]\n",
      "[('core_in', torch.Size([5, 955])), ('ghost_in', torch.Size([5, 955])), ('core_out', torch.Size([5, 955])), ('ghost_out', torch.Size([5, 955])), ('patch_id', 1), ('core_coords', torch.Size([405, 3])), ('ghost_coords', torch.Size([104, 3]))]\n",
      "[('core_in', torch.Size([5, 955])), ('ghost_in', torch.Size([5, 955])), ('core_out', torch.Size([5, 955])), ('ghost_out', torch.Size([5, 955])), ('patch_id', 1), ('core_coords', torch.Size([405, 3])), ('ghost_coords', torch.Size([104, 3]))]\n",
      "[('core_in', torch.Size([5, 955])), ('ghost_in', torch.Size([5, 955])), ('core_out', torch.Size([5, 955])), ('ghost_out', torch.Size([5, 955])), ('patch_id', 1), ('core_coords', torch.Size([405, 3])), ('ghost_coords', torch.Size([104, 3]))]\n",
      "[('core_in', torch.Size([5, 955])), ('ghost_in', torch.Size([5, 955])), ('core_out', torch.Size([5, 955])), ('ghost_out', torch.Size([5, 955])), ('patch_id', 1), ('core_coords', torch.Size([405, 3])), ('ghost_coords', torch.Size([104, 3]))]\n",
      "[('core_in', torch.Size([5, 955])), ('ghost_in', torch.Size([5, 955])), ('core_out', torch.Size([5, 955])), ('ghost_out', torch.Size([5, 955])), ('patch_id', 1), ('core_coords', torch.Size([405, 3])), ('ghost_coords', torch.Size([104, 3]))]\n",
      "[('core_in', torch.Size([5, 955])), ('ghost_in', torch.Size([5, 955])), ('core_out', torch.Size([5, 955])), ('ghost_out', torch.Size([5, 955])), ('patch_id', 1), ('core_coords', torch.Size([405, 3])), ('ghost_coords', torch.Size([104, 3]))]\n",
      "[('core_in', torch.Size([5, 955])), ('ghost_in', torch.Size([5, 955])), ('core_out', torch.Size([5, 955])), ('ghost_out', torch.Size([5, 955])), ('patch_id', 1), ('core_coords', torch.Size([405, 3])), ('ghost_coords', torch.Size([104, 3]))]\n",
      "[('core_in', torch.Size([5, 955])), ('ghost_in', torch.Size([5, 955])), ('core_out', torch.Size([5, 955])), ('ghost_out', torch.Size([5, 955])), ('patch_id', 1), ('core_coords', torch.Size([405, 3])), ('ghost_coords', torch.Size([104, 3]))]\n",
      "[('core_in', torch.Size([5, 955])), ('ghost_in', torch.Size([5, 955])), ('core_out', torch.Size([5, 955])), ('ghost_out', torch.Size([5, 955])), ('patch_id', 1), ('core_coords', torch.Size([405, 3])), ('ghost_coords', torch.Size([104, 3]))]\n",
      "[('core_in', torch.Size([5, 955])), ('ghost_in', torch.Size([5, 955])), ('core_out', torch.Size([5, 955])), ('ghost_out', torch.Size([5, 955])), ('patch_id', 1), ('core_coords', torch.Size([405, 3])), ('ghost_coords', torch.Size([104, 3]))]\n",
      "[('core_in', torch.Size([5, 955])), ('ghost_in', torch.Size([5, 955])), ('core_out', torch.Size([5, 955])), ('ghost_out', torch.Size([5, 955])), ('patch_id', 1), ('core_coords', torch.Size([405, 3])), ('ghost_coords', torch.Size([104, 3]))]\n",
      "[('core_in', torch.Size([5, 955])), ('ghost_in', torch.Size([5, 955])), ('core_out', torch.Size([5, 955])), ('ghost_out', torch.Size([5, 955])), ('patch_id', 1), ('core_coords', torch.Size([405, 3])), ('ghost_coords', torch.Size([104, 3]))]\n",
      "[('core_in', torch.Size([5, 955])), ('ghost_in', torch.Size([5, 955])), ('core_out', torch.Size([5, 955])), ('ghost_out', torch.Size([5, 955])), ('patch_id', 1), ('core_coords', torch.Size([405, 3])), ('ghost_coords', torch.Size([104, 3]))]\n",
      "[('core_in', torch.Size([5, 955])), ('ghost_in', torch.Size([5, 955])), ('core_out', torch.Size([5, 955])), ('ghost_out', torch.Size([5, 955])), ('patch_id', 1), ('core_coords', torch.Size([405, 3])), ('ghost_coords', torch.Size([104, 3]))]\n",
      "[('core_in', torch.Size([5, 955])), ('ghost_in', torch.Size([5, 955])), ('core_out', torch.Size([5, 955])), ('ghost_out', torch.Size([5, 955])), ('patch_id', 1), ('core_coords', torch.Size([405, 3])), ('ghost_coords', torch.Size([104, 3]))]\n",
      "[('core_in', torch.Size([5, 955])), ('ghost_in', torch.Size([5, 955])), ('core_out', torch.Size([5, 955])), ('ghost_out', torch.Size([5, 955])), ('patch_id', 1), ('core_coords', torch.Size([405, 3])), ('ghost_coords', torch.Size([104, 3]))]\n",
      "[('core_in', torch.Size([5, 955])), ('ghost_in', torch.Size([5, 955])), ('core_out', torch.Size([5, 955])), ('ghost_out', torch.Size([5, 955])), ('patch_id', 1), ('core_coords', torch.Size([405, 3])), ('ghost_coords', torch.Size([104, 3]))]\n",
      "[('core_in', torch.Size([5, 955])), ('ghost_in', torch.Size([5, 955])), ('core_out', torch.Size([5, 955])), ('ghost_out', torch.Size([5, 955])), ('patch_id', 1), ('core_coords', torch.Size([405, 3])), ('ghost_coords', torch.Size([104, 3]))]\n",
      "[('core_in', torch.Size([5, 955])), ('ghost_in', torch.Size([5, 955])), ('core_out', torch.Size([5, 955])), ('ghost_out', torch.Size([5, 955])), ('patch_id', 1), ('core_coords', torch.Size([405, 3])), ('ghost_coords', torch.Size([104, 3]))]\n",
      "[('core_in', torch.Size([5, 955])), ('ghost_in', torch.Size([5, 955])), ('core_out', torch.Size([5, 955])), ('ghost_out', torch.Size([5, 955])), ('patch_id', 1), ('core_coords', torch.Size([405, 3])), ('ghost_coords', torch.Size([104, 3]))]\n",
      "[('core_in', torch.Size([5, 955])), ('ghost_in', torch.Size([5, 955])), ('core_out', torch.Size([5, 955])), ('ghost_out', torch.Size([5, 955])), ('patch_id', 1), ('core_coords', torch.Size([405, 3])), ('ghost_coords', torch.Size([104, 3]))]\n",
      "[('core_in', torch.Size([5, 955])), ('ghost_in', torch.Size([5, 955])), ('core_out', torch.Size([5, 955])), ('ghost_out', torch.Size([5, 955])), ('patch_id', 1), ('core_coords', torch.Size([405, 3])), ('ghost_coords', torch.Size([104, 3]))]\n",
      "[('core_in', torch.Size([5, 955])), ('ghost_in', torch.Size([5, 955])), ('core_out', torch.Size([5, 955])), ('ghost_out', torch.Size([5, 955])), ('patch_id', 1), ('core_coords', torch.Size([405, 3])), ('ghost_coords', torch.Size([104, 3]))]\n",
      "[('core_in', torch.Size([5, 955])), ('ghost_in', torch.Size([5, 955])), ('core_out', torch.Size([5, 955])), ('ghost_out', torch.Size([5, 955])), ('patch_id', 1), ('core_coords', torch.Size([405, 3])), ('ghost_coords', torch.Size([104, 3]))]\n",
      "[('core_in', torch.Size([5, 955])), ('ghost_in', torch.Size([5, 955])), ('core_out', torch.Size([5, 955])), ('ghost_out', torch.Size([5, 955])), ('patch_id', 1), ('core_coords', torch.Size([405, 3])), ('ghost_coords', torch.Size([104, 3]))]\n",
      "[('core_in', torch.Size([5, 955])), ('ghost_in', torch.Size([5, 955])), ('core_out', torch.Size([5, 955])), ('ghost_out', torch.Size([5, 955])), ('patch_id', 1), ('core_coords', torch.Size([405, 3])), ('ghost_coords', torch.Size([104, 3]))]\n",
      "[('core_in', torch.Size([5, 955])), ('ghost_in', torch.Size([5, 955])), ('core_out', torch.Size([5, 955])), ('ghost_out', torch.Size([5, 955])), ('patch_id', 1), ('core_coords', torch.Size([405, 3])), ('ghost_coords', torch.Size([104, 3]))]\n",
      "[('core_in', torch.Size([5, 955])), ('ghost_in', torch.Size([5, 955])), ('core_out', torch.Size([5, 955])), ('ghost_out', torch.Size([5, 955])), ('patch_id', 1), ('core_coords', torch.Size([405, 3])), ('ghost_coords', torch.Size([104, 3]))]\n",
      "[('core_in', torch.Size([5, 955])), ('ghost_in', torch.Size([5, 955])), ('core_out', torch.Size([5, 955])), ('ghost_out', torch.Size([5, 955])), ('patch_id', 1), ('core_coords', torch.Size([405, 3])), ('ghost_coords', torch.Size([104, 3]))]\n",
      "[('core_in', torch.Size([5, 955])), ('ghost_in', torch.Size([5, 955])), ('core_out', torch.Size([5, 955])), ('ghost_out', torch.Size([5, 955])), ('patch_id', 1), ('core_coords', torch.Size([405, 3])), ('ghost_coords', torch.Size([104, 3]))]\n",
      "[('core_in', torch.Size([5, 955])), ('ghost_in', torch.Size([5, 955])), ('core_out', torch.Size([5, 955])), ('ghost_out', torch.Size([5, 955])), ('patch_id', 1), ('core_coords', torch.Size([405, 3])), ('ghost_coords', torch.Size([104, 3]))]\n",
      "[('core_in', torch.Size([5, 955])), ('ghost_in', torch.Size([5, 955])), ('core_out', torch.Size([5, 955])), ('ghost_out', torch.Size([5, 955])), ('patch_id', 1), ('core_coords', torch.Size([405, 3])), ('ghost_coords', torch.Size([104, 3]))]\n",
      "[('core_in', torch.Size([5, 955])), ('ghost_in', torch.Size([5, 955])), ('core_out', torch.Size([5, 955])), ('ghost_out', torch.Size([5, 955])), ('patch_id', 1), ('core_coords', torch.Size([405, 3])), ('ghost_coords', torch.Size([104, 3]))]\n",
      "[('core_in', torch.Size([5, 955])), ('ghost_in', torch.Size([5, 955])), ('core_out', torch.Size([5, 955])), ('ghost_out', torch.Size([5, 955])), ('patch_id', 1), ('core_coords', torch.Size([405, 3])), ('ghost_coords', torch.Size([104, 3]))]\n",
      "[('core_in', torch.Size([5, 955])), ('ghost_in', torch.Size([5, 955])), ('core_out', torch.Size([5, 955])), ('ghost_out', torch.Size([5, 955])), ('patch_id', 1), ('core_coords', torch.Size([405, 3])), ('ghost_coords', torch.Size([104, 3]))]\n",
      "[('core_in', torch.Size([5, 955])), ('ghost_in', torch.Size([5, 955])), ('core_out', torch.Size([5, 955])), ('ghost_out', torch.Size([5, 955])), ('patch_id', 1), ('core_coords', torch.Size([405, 3])), ('ghost_coords', torch.Size([104, 3]))]\n",
      "[('core_in', torch.Size([5, 955])), ('ghost_in', torch.Size([5, 955])), ('core_out', torch.Size([5, 955])), ('ghost_out', torch.Size([5, 955])), ('patch_id', 1), ('core_coords', torch.Size([405, 3])), ('ghost_coords', torch.Size([104, 3]))]\n",
      "[('core_in', torch.Size([5, 955])), ('ghost_in', torch.Size([5, 955])), ('core_out', torch.Size([5, 955])), ('ghost_out', torch.Size([5, 955])), ('patch_id', 1), ('core_coords', torch.Size([405, 3])), ('ghost_coords', torch.Size([104, 3]))]\n",
      "[('core_in', torch.Size([5, 955])), ('ghost_in', torch.Size([5, 955])), ('core_out', torch.Size([5, 955])), ('ghost_out', torch.Size([5, 955])), ('patch_id', 1), ('core_coords', torch.Size([405, 3])), ('ghost_coords', torch.Size([104, 3]))]\n",
      "[('core_in', torch.Size([5, 955])), ('ghost_in', torch.Size([5, 955])), ('core_out', torch.Size([5, 955])), ('ghost_out', torch.Size([5, 955])), ('patch_id', 1), ('core_coords', torch.Size([405, 3])), ('ghost_coords', torch.Size([104, 3]))]\n",
      "[('core_in', torch.Size([5, 955])), ('ghost_in', torch.Size([5, 955])), ('core_out', torch.Size([5, 955])), ('ghost_out', torch.Size([5, 955])), ('patch_id', 1), ('core_coords', torch.Size([405, 3])), ('ghost_coords', torch.Size([104, 3]))]\n",
      "[('core_in', torch.Size([5, 955])), ('ghost_in', torch.Size([5, 955])), ('core_out', torch.Size([5, 955])), ('ghost_out', torch.Size([5, 955])), ('patch_id', 1), ('core_coords', torch.Size([405, 3])), ('ghost_coords', torch.Size([104, 3]))]\n",
      "[('core_in', torch.Size([5, 955])), ('ghost_in', torch.Size([5, 955])), ('core_out', torch.Size([5, 955])), ('ghost_out', torch.Size([5, 955])), ('patch_id', 1), ('core_coords', torch.Size([405, 3])), ('ghost_coords', torch.Size([104, 3]))]\n",
      "[('core_in', torch.Size([5, 955])), ('ghost_in', torch.Size([5, 955])), ('core_out', torch.Size([5, 955])), ('ghost_out', torch.Size([5, 955])), ('patch_id', 1), ('core_coords', torch.Size([405, 3])), ('ghost_coords', torch.Size([104, 3]))]\n",
      "[('core_in', torch.Size([5, 955])), ('ghost_in', torch.Size([5, 955])), ('core_out', torch.Size([5, 955])), ('ghost_out', torch.Size([5, 955])), ('patch_id', 1), ('core_coords', torch.Size([405, 3])), ('ghost_coords', torch.Size([104, 3]))]\n",
      "[('core_in', torch.Size([5, 955])), ('ghost_in', torch.Size([5, 955])), ('core_out', torch.Size([5, 955])), ('ghost_out', torch.Size([5, 955])), ('patch_id', 1), ('core_coords', torch.Size([405, 3])), ('ghost_coords', torch.Size([104, 3]))]\n",
      "[('core_in', torch.Size([5, 955])), ('ghost_in', torch.Size([5, 955])), ('core_out', torch.Size([5, 955])), ('ghost_out', torch.Size([5, 955])), ('patch_id', 1), ('core_coords', torch.Size([405, 3])), ('ghost_coords', torch.Size([104, 3]))]\n",
      "[('core_in', torch.Size([5, 955])), ('ghost_in', torch.Size([5, 955])), ('core_out', torch.Size([5, 955])), ('ghost_out', torch.Size([5, 955])), ('patch_id', 1), ('core_coords', torch.Size([405, 3])), ('ghost_coords', torch.Size([104, 3]))]\n",
      "[('core_in', torch.Size([5, 955])), ('ghost_in', torch.Size([5, 955])), ('core_out', torch.Size([5, 955])), ('ghost_out', torch.Size([5, 955])), ('patch_id', 1), ('core_coords', torch.Size([405, 3])), ('ghost_coords', torch.Size([104, 3]))]\n",
      "[('core_in', torch.Size([5, 955])), ('ghost_in', torch.Size([5, 955])), ('core_out', torch.Size([5, 955])), ('ghost_out', torch.Size([5, 955])), ('patch_id', 1), ('core_coords', torch.Size([405, 3])), ('ghost_coords', torch.Size([104, 3]))]\n",
      "[('core_in', torch.Size([5, 955])), ('ghost_in', torch.Size([5, 955])), ('core_out', torch.Size([5, 955])), ('ghost_out', torch.Size([5, 955])), ('patch_id', 1), ('core_coords', torch.Size([405, 3])), ('ghost_coords', torch.Size([104, 3]))]\n",
      "[('core_in', torch.Size([5, 955])), ('ghost_in', torch.Size([5, 955])), ('core_out', torch.Size([5, 955])), ('ghost_out', torch.Size([5, 955])), ('patch_id', 1), ('core_coords', torch.Size([405, 3])), ('ghost_coords', torch.Size([104, 3]))]\n",
      "[('core_in', torch.Size([5, 955])), ('ghost_in', torch.Size([5, 955])), ('core_out', torch.Size([5, 955])), ('ghost_out', torch.Size([5, 955])), ('patch_id', 1), ('core_coords', torch.Size([405, 3])), ('ghost_coords', torch.Size([104, 3]))]\n",
      "[('core_in', torch.Size([5, 955])), ('ghost_in', torch.Size([5, 955])), ('core_out', torch.Size([5, 955])), ('ghost_out', torch.Size([5, 955])), ('patch_id', 1), ('core_coords', torch.Size([405, 3])), ('ghost_coords', torch.Size([104, 3]))]\n",
      "[('core_in', torch.Size([5, 955])), ('ghost_in', torch.Size([5, 955])), ('core_out', torch.Size([5, 955])), ('ghost_out', torch.Size([5, 955])), ('patch_id', 1), ('core_coords', torch.Size([405, 3])), ('ghost_coords', torch.Size([104, 3]))]\n",
      "[('core_in', torch.Size([5, 955])), ('ghost_in', torch.Size([5, 955])), ('core_out', torch.Size([5, 955])), ('ghost_out', torch.Size([5, 955])), ('patch_id', 1), ('core_coords', torch.Size([405, 3])), ('ghost_coords', torch.Size([104, 3]))]\n",
      "[('core_in', torch.Size([5, 955])), ('ghost_in', torch.Size([5, 955])), ('core_out', torch.Size([5, 955])), ('ghost_out', torch.Size([5, 955])), ('patch_id', 1), ('core_coords', torch.Size([405, 3])), ('ghost_coords', torch.Size([104, 3]))]\n",
      "[('core_in', torch.Size([5, 955])), ('ghost_in', torch.Size([5, 955])), ('core_out', torch.Size([5, 955])), ('ghost_out', torch.Size([5, 955])), ('patch_id', 1), ('core_coords', torch.Size([405, 3])), ('ghost_coords', torch.Size([104, 3]))]\n",
      "[('core_in', torch.Size([5, 955])), ('ghost_in', torch.Size([5, 955])), ('core_out', torch.Size([5, 955])), ('ghost_out', torch.Size([5, 955])), ('patch_id', 1), ('core_coords', torch.Size([405, 3])), ('ghost_coords', torch.Size([104, 3]))]\n",
      "[('core_in', torch.Size([5, 955])), ('ghost_in', torch.Size([5, 955])), ('core_out', torch.Size([5, 955])), ('ghost_out', torch.Size([5, 955])), ('patch_id', 1), ('core_coords', torch.Size([405, 3])), ('ghost_coords', torch.Size([104, 3]))]\n",
      "[('core_in', torch.Size([5, 955])), ('ghost_in', torch.Size([5, 955])), ('core_out', torch.Size([5, 955])), ('ghost_out', torch.Size([5, 955])), ('patch_id', 1), ('core_coords', torch.Size([405, 3])), ('ghost_coords', torch.Size([104, 3]))]\n",
      "[('core_in', torch.Size([5, 955])), ('ghost_in', torch.Size([5, 955])), ('core_out', torch.Size([5, 955])), ('ghost_out', torch.Size([4, 955])), ('patch_id', 1), ('core_coords', torch.Size([405, 3])), ('ghost_coords', torch.Size([104, 3]))]\n"
     ]
    },
    {
     "ename": "RuntimeError",
     "evalue": "Sizes of tensors must match except in dimension 1. Expected size 5 but got size 4 for tensor number 1 in the list.",
     "output_type": "error",
     "traceback": [
      "\u001b[31m---------------------------------------------------------------------------\u001b[39m",
      "\u001b[31mRuntimeError\u001b[39m                              Traceback (most recent call last)",
      "\u001b[36mCell\u001b[39m\u001b[36m \u001b[39m\u001b[32mIn[9]\u001b[39m\u001b[32m, line 5\u001b[39m\n\u001b[32m      3\u001b[39m input_coords = torch.concat([patch_data[\u001b[33m'\u001b[39m\u001b[33mcore_coords\u001b[39m\u001b[33m'\u001b[39m], patch_data[\u001b[33m'\u001b[39m\u001b[33mghost_coords\u001b[39m\u001b[33m'\u001b[39m]], dim=\u001b[32m0\u001b[39m)\n\u001b[32m      4\u001b[39m input_obs = torch.concat([patch_data[\u001b[33m'\u001b[39m\u001b[33mcore_in\u001b[39m\u001b[33m'\u001b[39m], patch_data[\u001b[33m'\u001b[39m\u001b[33mghost_in\u001b[39m\u001b[33m'\u001b[39m]], dim=\u001b[32m1\u001b[39m)\n\u001b[32m----> \u001b[39m\u001b[32m5\u001b[39m output_obs = \u001b[43mtorch\u001b[49m\u001b[43m.\u001b[49m\u001b[43mconcat\u001b[49m\u001b[43m(\u001b[49m\u001b[43m[\u001b[49m\u001b[43mpatch_data\u001b[49m\u001b[43m[\u001b[49m\u001b[33;43m'\u001b[39;49m\u001b[33;43mcore_out\u001b[39;49m\u001b[33;43m'\u001b[39;49m\u001b[43m]\u001b[49m\u001b[43m,\u001b[49m\u001b[43m \u001b[49m\u001b[43mpatch_data\u001b[49m\u001b[43m[\u001b[49m\u001b[33;43m'\u001b[39;49m\u001b[33;43mghost_out\u001b[39;49m\u001b[33;43m'\u001b[39;49m\u001b[43m]\u001b[49m\u001b[43m]\u001b[49m\u001b[43m,\u001b[49m\u001b[43m \u001b[49m\u001b[43mdim\u001b[49m\u001b[43m=\u001b[49m\u001b[32;43m1\u001b[39;49m\u001b[43m)\u001b[49m\n\u001b[32m      6\u001b[39m core_len = \u001b[38;5;28mint\u001b[39m(input_coords.shape[\u001b[32m0\u001b[39m] * \u001b[32m0.8\u001b[39m)\n",
      "\u001b[31mRuntimeError\u001b[39m: Sizes of tensors must match except in dimension 1. Expected size 5 but got size 4 for tensor number 1 in the list."
     ]
    }
   ],
   "source": [
    "for patch_data in patch_ds:\n",
    "    print([(k, v.shape) if k != 'patch_id' else (k, v) for k, v in patch_data.items()])\n",
    "    input_coords = torch.concat([patch_data['core_coords'], patch_data['ghost_coords']], dim=0)\n",
    "    input_obs = torch.concat([patch_data['core_in'], patch_data['ghost_in']], dim=1)\n",
    "    output_obs = torch.concat([patch_data['core_out'], patch_data['ghost_out']], dim=1)\n",
    "    core_len = int(input_coords.shape[0] * 0.8)\n",
    "    "
   ]
  },
  {
   "cell_type": "code",
   "execution_count": null,
   "id": "9f62a33f",
   "metadata": {},
   "outputs": [],
   "source": []
  },
  {
   "cell_type": "code",
   "execution_count": null,
   "id": "6bb73ae2",
   "metadata": {},
   "outputs": [],
   "source": []
  },
  {
   "cell_type": "code",
   "execution_count": null,
   "id": "17cd5bad",
   "metadata": {},
   "outputs": [],
   "source": []
  },
  {
   "cell_type": "code",
   "execution_count": null,
   "id": "beb8a75d",
   "metadata": {},
   "outputs": [],
   "source": []
  }
 ],
 "metadata": {
  "kernelspec": {
   "display_name": "neuralop-env",
   "language": "python",
   "name": "python3"
  },
  "language_info": {
   "codemirror_mode": {
    "name": "ipython",
    "version": 3
   },
   "file_extension": ".py",
   "mimetype": "text/x-python",
   "name": "python",
   "nbconvert_exporter": "python",
   "pygments_lexer": "ipython3",
   "version": "3.12.11"
  }
 },
 "nbformat": 4,
 "nbformat_minor": 5
}
